{
  "nbformat": 4,
  "nbformat_minor": 0,
  "metadata": {
    "colab": {
      "name": "<Github>Forgery Test 2.ipynb",
      "provenance": [],
      "collapsed_sections": [
        "RIJZA5UTUgp-"
      ],
      "include_colab_link": true
    },
    "kernelspec": {
      "display_name": "Python 3",
      "name": "python3"
    },
    "widgets": {
      "application/vnd.jupyter.widget-state+json": {
        "ab298ca334bd4eea86fe6d286cce16c2": {
          "model_module": "@jupyter-widgets/controls",
          "model_name": "HBoxModel",
          "state": {
            "_view_name": "HBoxView",
            "_dom_classes": [],
            "_model_name": "HBoxModel",
            "_view_module": "@jupyter-widgets/controls",
            "_model_module_version": "1.5.0",
            "_view_count": null,
            "_view_module_version": "1.5.0",
            "box_style": "",
            "layout": "IPY_MODEL_f9e0fb601ce241bbbd0ec399de62405e",
            "_model_module": "@jupyter-widgets/controls",
            "children": [
              "IPY_MODEL_10f5867cfe394237b1c731375ec62799",
              "IPY_MODEL_2e884ef1f89e43d7a5f1a9cf65fa2312"
            ]
          }
        },
        "f9e0fb601ce241bbbd0ec399de62405e": {
          "model_module": "@jupyter-widgets/base",
          "model_name": "LayoutModel",
          "state": {
            "_view_name": "LayoutView",
            "grid_template_rows": null,
            "right": null,
            "justify_content": null,
            "_view_module": "@jupyter-widgets/base",
            "overflow": null,
            "_model_module_version": "1.2.0",
            "_view_count": null,
            "flex_flow": null,
            "width": null,
            "min_width": null,
            "border": null,
            "align_items": null,
            "bottom": null,
            "_model_module": "@jupyter-widgets/base",
            "top": null,
            "grid_column": null,
            "overflow_y": null,
            "overflow_x": null,
            "grid_auto_flow": null,
            "grid_area": null,
            "grid_template_columns": null,
            "flex": null,
            "_model_name": "LayoutModel",
            "justify_items": null,
            "grid_row": null,
            "max_height": null,
            "align_content": null,
            "visibility": null,
            "align_self": null,
            "height": null,
            "min_height": null,
            "padding": null,
            "grid_auto_rows": null,
            "grid_gap": null,
            "max_width": null,
            "order": null,
            "_view_module_version": "1.2.0",
            "grid_template_areas": null,
            "object_position": null,
            "object_fit": null,
            "grid_auto_columns": null,
            "margin": null,
            "display": null,
            "left": null
          }
        },
        "10f5867cfe394237b1c731375ec62799": {
          "model_module": "@jupyter-widgets/controls",
          "model_name": "FloatProgressModel",
          "state": {
            "_view_name": "ProgressView",
            "style": "IPY_MODEL_b00313622cf248259a29c314e22130c6",
            "_dom_classes": [],
            "description": "Dl Completed...: 100%",
            "_model_name": "FloatProgressModel",
            "bar_style": "success",
            "max": 1,
            "_view_module": "@jupyter-widgets/controls",
            "_model_module_version": "1.5.0",
            "value": 1,
            "_view_count": null,
            "_view_module_version": "1.5.0",
            "orientation": "horizontal",
            "min": 0,
            "description_tooltip": null,
            "_model_module": "@jupyter-widgets/controls",
            "layout": "IPY_MODEL_c9833c4a635744cd91d10aef5fe6499c"
          }
        },
        "2e884ef1f89e43d7a5f1a9cf65fa2312": {
          "model_module": "@jupyter-widgets/controls",
          "model_name": "HTMLModel",
          "state": {
            "_view_name": "HTMLView",
            "style": "IPY_MODEL_3e44983c8c2c4fe6837d4f5daf7573b4",
            "_dom_classes": [],
            "description": "",
            "_model_name": "HTMLModel",
            "placeholder": "​",
            "_view_module": "@jupyter-widgets/controls",
            "_model_module_version": "1.5.0",
            "value": " 1/1 [00:27&lt;00:00, 27.35s/ url]",
            "_view_count": null,
            "_view_module_version": "1.5.0",
            "description_tooltip": null,
            "_model_module": "@jupyter-widgets/controls",
            "layout": "IPY_MODEL_8a1a63d5bd9d43eb8905d382bfd4d06b"
          }
        },
        "b00313622cf248259a29c314e22130c6": {
          "model_module": "@jupyter-widgets/controls",
          "model_name": "ProgressStyleModel",
          "state": {
            "_view_name": "StyleView",
            "_model_name": "ProgressStyleModel",
            "description_width": "initial",
            "_view_module": "@jupyter-widgets/base",
            "_model_module_version": "1.5.0",
            "_view_count": null,
            "_view_module_version": "1.2.0",
            "bar_color": null,
            "_model_module": "@jupyter-widgets/controls"
          }
        },
        "c9833c4a635744cd91d10aef5fe6499c": {
          "model_module": "@jupyter-widgets/base",
          "model_name": "LayoutModel",
          "state": {
            "_view_name": "LayoutView",
            "grid_template_rows": null,
            "right": null,
            "justify_content": null,
            "_view_module": "@jupyter-widgets/base",
            "overflow": null,
            "_model_module_version": "1.2.0",
            "_view_count": null,
            "flex_flow": null,
            "width": null,
            "min_width": null,
            "border": null,
            "align_items": null,
            "bottom": null,
            "_model_module": "@jupyter-widgets/base",
            "top": null,
            "grid_column": null,
            "overflow_y": null,
            "overflow_x": null,
            "grid_auto_flow": null,
            "grid_area": null,
            "grid_template_columns": null,
            "flex": null,
            "_model_name": "LayoutModel",
            "justify_items": null,
            "grid_row": null,
            "max_height": null,
            "align_content": null,
            "visibility": null,
            "align_self": null,
            "height": null,
            "min_height": null,
            "padding": null,
            "grid_auto_rows": null,
            "grid_gap": null,
            "max_width": null,
            "order": null,
            "_view_module_version": "1.2.0",
            "grid_template_areas": null,
            "object_position": null,
            "object_fit": null,
            "grid_auto_columns": null,
            "margin": null,
            "display": null,
            "left": null
          }
        },
        "3e44983c8c2c4fe6837d4f5daf7573b4": {
          "model_module": "@jupyter-widgets/controls",
          "model_name": "DescriptionStyleModel",
          "state": {
            "_view_name": "StyleView",
            "_model_name": "DescriptionStyleModel",
            "description_width": "",
            "_view_module": "@jupyter-widgets/base",
            "_model_module_version": "1.5.0",
            "_view_count": null,
            "_view_module_version": "1.2.0",
            "_model_module": "@jupyter-widgets/controls"
          }
        },
        "8a1a63d5bd9d43eb8905d382bfd4d06b": {
          "model_module": "@jupyter-widgets/base",
          "model_name": "LayoutModel",
          "state": {
            "_view_name": "LayoutView",
            "grid_template_rows": null,
            "right": null,
            "justify_content": null,
            "_view_module": "@jupyter-widgets/base",
            "overflow": null,
            "_model_module_version": "1.2.0",
            "_view_count": null,
            "flex_flow": null,
            "width": null,
            "min_width": null,
            "border": null,
            "align_items": null,
            "bottom": null,
            "_model_module": "@jupyter-widgets/base",
            "top": null,
            "grid_column": null,
            "overflow_y": null,
            "overflow_x": null,
            "grid_auto_flow": null,
            "grid_area": null,
            "grid_template_columns": null,
            "flex": null,
            "_model_name": "LayoutModel",
            "justify_items": null,
            "grid_row": null,
            "max_height": null,
            "align_content": null,
            "visibility": null,
            "align_self": null,
            "height": null,
            "min_height": null,
            "padding": null,
            "grid_auto_rows": null,
            "grid_gap": null,
            "max_width": null,
            "order": null,
            "_view_module_version": "1.2.0",
            "grid_template_areas": null,
            "object_position": null,
            "object_fit": null,
            "grid_auto_columns": null,
            "margin": null,
            "display": null,
            "left": null
          }
        },
        "2886804946484938ae7bc24c38fc8303": {
          "model_module": "@jupyter-widgets/controls",
          "model_name": "HBoxModel",
          "state": {
            "_view_name": "HBoxView",
            "_dom_classes": [],
            "_model_name": "HBoxModel",
            "_view_module": "@jupyter-widgets/controls",
            "_model_module_version": "1.5.0",
            "_view_count": null,
            "_view_module_version": "1.5.0",
            "box_style": "",
            "layout": "IPY_MODEL_2ef4986b428b4728996f9e6ddd4f276d",
            "_model_module": "@jupyter-widgets/controls",
            "children": [
              "IPY_MODEL_c850ead1f53e4d648991d0ed1254e44b",
              "IPY_MODEL_4e7199905b824121b50416eb5330b9c1"
            ]
          }
        },
        "2ef4986b428b4728996f9e6ddd4f276d": {
          "model_module": "@jupyter-widgets/base",
          "model_name": "LayoutModel",
          "state": {
            "_view_name": "LayoutView",
            "grid_template_rows": null,
            "right": null,
            "justify_content": null,
            "_view_module": "@jupyter-widgets/base",
            "overflow": null,
            "_model_module_version": "1.2.0",
            "_view_count": null,
            "flex_flow": null,
            "width": null,
            "min_width": null,
            "border": null,
            "align_items": null,
            "bottom": null,
            "_model_module": "@jupyter-widgets/base",
            "top": null,
            "grid_column": null,
            "overflow_y": null,
            "overflow_x": null,
            "grid_auto_flow": null,
            "grid_area": null,
            "grid_template_columns": null,
            "flex": null,
            "_model_name": "LayoutModel",
            "justify_items": null,
            "grid_row": null,
            "max_height": null,
            "align_content": null,
            "visibility": null,
            "align_self": null,
            "height": null,
            "min_height": null,
            "padding": null,
            "grid_auto_rows": null,
            "grid_gap": null,
            "max_width": null,
            "order": null,
            "_view_module_version": "1.2.0",
            "grid_template_areas": null,
            "object_position": null,
            "object_fit": null,
            "grid_auto_columns": null,
            "margin": null,
            "display": null,
            "left": null
          }
        },
        "c850ead1f53e4d648991d0ed1254e44b": {
          "model_module": "@jupyter-widgets/controls",
          "model_name": "FloatProgressModel",
          "state": {
            "_view_name": "ProgressView",
            "style": "IPY_MODEL_518f7c20850646f78a2988c26cc3122d",
            "_dom_classes": [],
            "description": "Dl Size...: 100%",
            "_model_name": "FloatProgressModel",
            "bar_style": "success",
            "max": 1,
            "_view_module": "@jupyter-widgets/controls",
            "_model_module_version": "1.5.0",
            "value": 1,
            "_view_count": null,
            "_view_module_version": "1.5.0",
            "orientation": "horizontal",
            "min": 0,
            "description_tooltip": null,
            "_model_module": "@jupyter-widgets/controls",
            "layout": "IPY_MODEL_8197897bab41486691d290ec2d0f9317"
          }
        },
        "4e7199905b824121b50416eb5330b9c1": {
          "model_module": "@jupyter-widgets/controls",
          "model_name": "HTMLModel",
          "state": {
            "_view_name": "HTMLView",
            "style": "IPY_MODEL_db32d4811f374f3ea28b8ba02b833a55",
            "_dom_classes": [],
            "description": "",
            "_model_name": "HTMLModel",
            "placeholder": "​",
            "_view_module": "@jupyter-widgets/controls",
            "_model_module_version": "1.5.0",
            "value": " 638/638 [00:27&lt;00:00, 23.36 MiB/s]",
            "_view_count": null,
            "_view_module_version": "1.5.0",
            "description_tooltip": null,
            "_model_module": "@jupyter-widgets/controls",
            "layout": "IPY_MODEL_85ab4a546f3f49259dcdc2d5b29b2fe0"
          }
        },
        "518f7c20850646f78a2988c26cc3122d": {
          "model_module": "@jupyter-widgets/controls",
          "model_name": "ProgressStyleModel",
          "state": {
            "_view_name": "StyleView",
            "_model_name": "ProgressStyleModel",
            "description_width": "initial",
            "_view_module": "@jupyter-widgets/base",
            "_model_module_version": "1.5.0",
            "_view_count": null,
            "_view_module_version": "1.2.0",
            "bar_color": null,
            "_model_module": "@jupyter-widgets/controls"
          }
        },
        "8197897bab41486691d290ec2d0f9317": {
          "model_module": "@jupyter-widgets/base",
          "model_name": "LayoutModel",
          "state": {
            "_view_name": "LayoutView",
            "grid_template_rows": null,
            "right": null,
            "justify_content": null,
            "_view_module": "@jupyter-widgets/base",
            "overflow": null,
            "_model_module_version": "1.2.0",
            "_view_count": null,
            "flex_flow": null,
            "width": null,
            "min_width": null,
            "border": null,
            "align_items": null,
            "bottom": null,
            "_model_module": "@jupyter-widgets/base",
            "top": null,
            "grid_column": null,
            "overflow_y": null,
            "overflow_x": null,
            "grid_auto_flow": null,
            "grid_area": null,
            "grid_template_columns": null,
            "flex": null,
            "_model_name": "LayoutModel",
            "justify_items": null,
            "grid_row": null,
            "max_height": null,
            "align_content": null,
            "visibility": null,
            "align_self": null,
            "height": null,
            "min_height": null,
            "padding": null,
            "grid_auto_rows": null,
            "grid_gap": null,
            "max_width": null,
            "order": null,
            "_view_module_version": "1.2.0",
            "grid_template_areas": null,
            "object_position": null,
            "object_fit": null,
            "grid_auto_columns": null,
            "margin": null,
            "display": null,
            "left": null
          }
        },
        "db32d4811f374f3ea28b8ba02b833a55": {
          "model_module": "@jupyter-widgets/controls",
          "model_name": "DescriptionStyleModel",
          "state": {
            "_view_name": "StyleView",
            "_model_name": "DescriptionStyleModel",
            "description_width": "",
            "_view_module": "@jupyter-widgets/base",
            "_model_module_version": "1.5.0",
            "_view_count": null,
            "_view_module_version": "1.2.0",
            "_model_module": "@jupyter-widgets/controls"
          }
        },
        "85ab4a546f3f49259dcdc2d5b29b2fe0": {
          "model_module": "@jupyter-widgets/base",
          "model_name": "LayoutModel",
          "state": {
            "_view_name": "LayoutView",
            "grid_template_rows": null,
            "right": null,
            "justify_content": null,
            "_view_module": "@jupyter-widgets/base",
            "overflow": null,
            "_model_module_version": "1.2.0",
            "_view_count": null,
            "flex_flow": null,
            "width": null,
            "min_width": null,
            "border": null,
            "align_items": null,
            "bottom": null,
            "_model_module": "@jupyter-widgets/base",
            "top": null,
            "grid_column": null,
            "overflow_y": null,
            "overflow_x": null,
            "grid_auto_flow": null,
            "grid_area": null,
            "grid_template_columns": null,
            "flex": null,
            "_model_name": "LayoutModel",
            "justify_items": null,
            "grid_row": null,
            "max_height": null,
            "align_content": null,
            "visibility": null,
            "align_self": null,
            "height": null,
            "min_height": null,
            "padding": null,
            "grid_auto_rows": null,
            "grid_gap": null,
            "max_width": null,
            "order": null,
            "_view_module_version": "1.2.0",
            "grid_template_areas": null,
            "object_position": null,
            "object_fit": null,
            "grid_auto_columns": null,
            "margin": null,
            "display": null,
            "left": null
          }
        },
        "a0f9b32d41ca47e1bc40924f274f85af": {
          "model_module": "@jupyter-widgets/controls",
          "model_name": "HBoxModel",
          "state": {
            "_view_name": "HBoxView",
            "_dom_classes": [],
            "_model_name": "HBoxModel",
            "_view_module": "@jupyter-widgets/controls",
            "_model_module_version": "1.5.0",
            "_view_count": null,
            "_view_module_version": "1.5.0",
            "box_style": "",
            "layout": "IPY_MODEL_9baccff85ca24a838a79fafa45618c97",
            "_model_module": "@jupyter-widgets/controls",
            "children": [
              "IPY_MODEL_9b0906e721874a8b8912544303635896",
              "IPY_MODEL_2a6161753c214dbc82976df14ae1a127"
            ]
          }
        },
        "9baccff85ca24a838a79fafa45618c97": {
          "model_module": "@jupyter-widgets/base",
          "model_name": "LayoutModel",
          "state": {
            "_view_name": "LayoutView",
            "grid_template_rows": null,
            "right": null,
            "justify_content": null,
            "_view_module": "@jupyter-widgets/base",
            "overflow": null,
            "_model_module_version": "1.2.0",
            "_view_count": null,
            "flex_flow": null,
            "width": null,
            "min_width": null,
            "border": null,
            "align_items": null,
            "bottom": null,
            "_model_module": "@jupyter-widgets/base",
            "top": null,
            "grid_column": null,
            "overflow_y": null,
            "overflow_x": null,
            "grid_auto_flow": null,
            "grid_area": null,
            "grid_template_columns": null,
            "flex": null,
            "_model_name": "LayoutModel",
            "justify_items": null,
            "grid_row": null,
            "max_height": null,
            "align_content": null,
            "visibility": null,
            "align_self": null,
            "height": null,
            "min_height": null,
            "padding": null,
            "grid_auto_rows": null,
            "grid_gap": null,
            "max_width": null,
            "order": null,
            "_view_module_version": "1.2.0",
            "grid_template_areas": null,
            "object_position": null,
            "object_fit": null,
            "grid_auto_columns": null,
            "margin": null,
            "display": null,
            "left": null
          }
        },
        "9b0906e721874a8b8912544303635896": {
          "model_module": "@jupyter-widgets/controls",
          "model_name": "FloatProgressModel",
          "state": {
            "_view_name": "ProgressView",
            "style": "IPY_MODEL_e6ab4ae764d040408ce3135b9172bb94",
            "_dom_classes": [],
            "description": "Extraction completed...: 100%",
            "_model_name": "FloatProgressModel",
            "bar_style": "success",
            "max": 1,
            "_view_module": "@jupyter-widgets/controls",
            "_model_module_version": "1.5.0",
            "value": 1,
            "_view_count": null,
            "_view_module_version": "1.5.0",
            "orientation": "horizontal",
            "min": 0,
            "description_tooltip": null,
            "_model_module": "@jupyter-widgets/controls",
            "layout": "IPY_MODEL_7ffc65b39931440b9c02b383a4c3d55e"
          }
        },
        "2a6161753c214dbc82976df14ae1a127": {
          "model_module": "@jupyter-widgets/controls",
          "model_name": "HTMLModel",
          "state": {
            "_view_name": "HTMLView",
            "style": "IPY_MODEL_c99a3eb0c14c4671bfbee19be5bc01ad",
            "_dom_classes": [],
            "description": "",
            "_model_name": "HTMLModel",
            "placeholder": "​",
            "_view_module": "@jupyter-widgets/controls",
            "_model_module_version": "1.5.0",
            "value": " 1/1 [00:27&lt;00:00, 27.27s/ file]",
            "_view_count": null,
            "_view_module_version": "1.5.0",
            "description_tooltip": null,
            "_model_module": "@jupyter-widgets/controls",
            "layout": "IPY_MODEL_a82231e036ce4c0d87145da6ef2f3104"
          }
        },
        "e6ab4ae764d040408ce3135b9172bb94": {
          "model_module": "@jupyter-widgets/controls",
          "model_name": "ProgressStyleModel",
          "state": {
            "_view_name": "StyleView",
            "_model_name": "ProgressStyleModel",
            "description_width": "initial",
            "_view_module": "@jupyter-widgets/base",
            "_model_module_version": "1.5.0",
            "_view_count": null,
            "_view_module_version": "1.2.0",
            "bar_color": null,
            "_model_module": "@jupyter-widgets/controls"
          }
        },
        "7ffc65b39931440b9c02b383a4c3d55e": {
          "model_module": "@jupyter-widgets/base",
          "model_name": "LayoutModel",
          "state": {
            "_view_name": "LayoutView",
            "grid_template_rows": null,
            "right": null,
            "justify_content": null,
            "_view_module": "@jupyter-widgets/base",
            "overflow": null,
            "_model_module_version": "1.2.0",
            "_view_count": null,
            "flex_flow": null,
            "width": null,
            "min_width": null,
            "border": null,
            "align_items": null,
            "bottom": null,
            "_model_module": "@jupyter-widgets/base",
            "top": null,
            "grid_column": null,
            "overflow_y": null,
            "overflow_x": null,
            "grid_auto_flow": null,
            "grid_area": null,
            "grid_template_columns": null,
            "flex": null,
            "_model_name": "LayoutModel",
            "justify_items": null,
            "grid_row": null,
            "max_height": null,
            "align_content": null,
            "visibility": null,
            "align_self": null,
            "height": null,
            "min_height": null,
            "padding": null,
            "grid_auto_rows": null,
            "grid_gap": null,
            "max_width": null,
            "order": null,
            "_view_module_version": "1.2.0",
            "grid_template_areas": null,
            "object_position": null,
            "object_fit": null,
            "grid_auto_columns": null,
            "margin": null,
            "display": null,
            "left": null
          }
        },
        "c99a3eb0c14c4671bfbee19be5bc01ad": {
          "model_module": "@jupyter-widgets/controls",
          "model_name": "DescriptionStyleModel",
          "state": {
            "_view_name": "StyleView",
            "_model_name": "DescriptionStyleModel",
            "description_width": "",
            "_view_module": "@jupyter-widgets/base",
            "_model_module_version": "1.5.0",
            "_view_count": null,
            "_view_module_version": "1.2.0",
            "_model_module": "@jupyter-widgets/controls"
          }
        },
        "a82231e036ce4c0d87145da6ef2f3104": {
          "model_module": "@jupyter-widgets/base",
          "model_name": "LayoutModel",
          "state": {
            "_view_name": "LayoutView",
            "grid_template_rows": null,
            "right": null,
            "justify_content": null,
            "_view_module": "@jupyter-widgets/base",
            "overflow": null,
            "_model_module_version": "1.2.0",
            "_view_count": null,
            "flex_flow": null,
            "width": null,
            "min_width": null,
            "border": null,
            "align_items": null,
            "bottom": null,
            "_model_module": "@jupyter-widgets/base",
            "top": null,
            "grid_column": null,
            "overflow_y": null,
            "overflow_x": null,
            "grid_auto_flow": null,
            "grid_area": null,
            "grid_template_columns": null,
            "flex": null,
            "_model_name": "LayoutModel",
            "justify_items": null,
            "grid_row": null,
            "max_height": null,
            "align_content": null,
            "visibility": null,
            "align_self": null,
            "height": null,
            "min_height": null,
            "padding": null,
            "grid_auto_rows": null,
            "grid_gap": null,
            "max_width": null,
            "order": null,
            "_view_module_version": "1.2.0",
            "grid_template_areas": null,
            "object_position": null,
            "object_fit": null,
            "grid_auto_columns": null,
            "margin": null,
            "display": null,
            "left": null
          }
        },
        "2e807931b44c461eb328f5bd92ba5598": {
          "model_module": "@jupyter-widgets/controls",
          "model_name": "HBoxModel",
          "state": {
            "_view_name": "HBoxView",
            "_dom_classes": [],
            "_model_name": "HBoxModel",
            "_view_module": "@jupyter-widgets/controls",
            "_model_module_version": "1.5.0",
            "_view_count": null,
            "_view_module_version": "1.5.0",
            "box_style": "",
            "layout": "IPY_MODEL_119c15f8fbd241a387868f16ff1c42d4",
            "_model_module": "@jupyter-widgets/controls",
            "children": [
              "IPY_MODEL_2456e0dde7ee41f7a7cc02d98cd46808",
              "IPY_MODEL_26f1e97ef09542738cd81cc8fd426669"
            ]
          }
        },
        "119c15f8fbd241a387868f16ff1c42d4": {
          "model_module": "@jupyter-widgets/base",
          "model_name": "LayoutModel",
          "state": {
            "_view_name": "LayoutView",
            "grid_template_rows": null,
            "right": null,
            "justify_content": null,
            "_view_module": "@jupyter-widgets/base",
            "overflow": null,
            "_model_module_version": "1.2.0",
            "_view_count": null,
            "flex_flow": null,
            "width": null,
            "min_width": null,
            "border": null,
            "align_items": null,
            "bottom": null,
            "_model_module": "@jupyter-widgets/base",
            "top": null,
            "grid_column": null,
            "overflow_y": null,
            "overflow_x": null,
            "grid_auto_flow": null,
            "grid_area": null,
            "grid_template_columns": null,
            "flex": null,
            "_model_name": "LayoutModel",
            "justify_items": null,
            "grid_row": null,
            "max_height": null,
            "align_content": null,
            "visibility": null,
            "align_self": null,
            "height": null,
            "min_height": null,
            "padding": null,
            "grid_auto_rows": null,
            "grid_gap": null,
            "max_width": null,
            "order": null,
            "_view_module_version": "1.2.0",
            "grid_template_areas": null,
            "object_position": null,
            "object_fit": null,
            "grid_auto_columns": null,
            "margin": null,
            "display": null,
            "left": null
          }
        },
        "2456e0dde7ee41f7a7cc02d98cd46808": {
          "model_module": "@jupyter-widgets/controls",
          "model_name": "FloatProgressModel",
          "state": {
            "_view_name": "ProgressView",
            "style": "IPY_MODEL_cb01509a3d4640acbaeff400f88501ed",
            "_dom_classes": [],
            "description": "",
            "_model_name": "FloatProgressModel",
            "bar_style": "info",
            "max": 1,
            "_view_module": "@jupyter-widgets/controls",
            "_model_module_version": "1.5.0",
            "value": 1,
            "_view_count": null,
            "_view_module_version": "1.5.0",
            "orientation": "horizontal",
            "min": 0,
            "description_tooltip": null,
            "_model_module": "@jupyter-widgets/controls",
            "layout": "IPY_MODEL_db9333973c204413a49f7c3d4fd1930c"
          }
        },
        "26f1e97ef09542738cd81cc8fd426669": {
          "model_module": "@jupyter-widgets/controls",
          "model_name": "HTMLModel",
          "state": {
            "_view_name": "HTMLView",
            "style": "IPY_MODEL_2faf5d95fb034963909aff87bbc9bb82",
            "_dom_classes": [],
            "description": "",
            "_model_name": "HTMLModel",
            "placeholder": "​",
            "_view_module": "@jupyter-widgets/controls",
            "_model_module_version": "1.5.0",
            "value": " 14669/0 [00:05&lt;00:00, 2781.25 examples/s]",
            "_view_count": null,
            "_view_module_version": "1.5.0",
            "description_tooltip": null,
            "_model_module": "@jupyter-widgets/controls",
            "layout": "IPY_MODEL_a7123764abd04ef9b3f15a7efa10f4fa"
          }
        },
        "cb01509a3d4640acbaeff400f88501ed": {
          "model_module": "@jupyter-widgets/controls",
          "model_name": "ProgressStyleModel",
          "state": {
            "_view_name": "StyleView",
            "_model_name": "ProgressStyleModel",
            "description_width": "initial",
            "_view_module": "@jupyter-widgets/base",
            "_model_module_version": "1.5.0",
            "_view_count": null,
            "_view_module_version": "1.2.0",
            "bar_color": null,
            "_model_module": "@jupyter-widgets/controls"
          }
        },
        "db9333973c204413a49f7c3d4fd1930c": {
          "model_module": "@jupyter-widgets/base",
          "model_name": "LayoutModel",
          "state": {
            "_view_name": "LayoutView",
            "grid_template_rows": null,
            "right": null,
            "justify_content": null,
            "_view_module": "@jupyter-widgets/base",
            "overflow": null,
            "_model_module_version": "1.2.0",
            "_view_count": null,
            "flex_flow": null,
            "width": null,
            "min_width": null,
            "border": null,
            "align_items": null,
            "bottom": null,
            "_model_module": "@jupyter-widgets/base",
            "top": null,
            "grid_column": null,
            "overflow_y": null,
            "overflow_x": null,
            "grid_auto_flow": null,
            "grid_area": null,
            "grid_template_columns": null,
            "flex": null,
            "_model_name": "LayoutModel",
            "justify_items": null,
            "grid_row": null,
            "max_height": null,
            "align_content": null,
            "visibility": null,
            "align_self": null,
            "height": null,
            "min_height": null,
            "padding": null,
            "grid_auto_rows": null,
            "grid_gap": null,
            "max_width": null,
            "order": null,
            "_view_module_version": "1.2.0",
            "grid_template_areas": null,
            "object_position": null,
            "object_fit": null,
            "grid_auto_columns": null,
            "margin": null,
            "display": null,
            "left": null
          }
        },
        "2faf5d95fb034963909aff87bbc9bb82": {
          "model_module": "@jupyter-widgets/controls",
          "model_name": "DescriptionStyleModel",
          "state": {
            "_view_name": "StyleView",
            "_model_name": "DescriptionStyleModel",
            "description_width": "",
            "_view_module": "@jupyter-widgets/base",
            "_model_module_version": "1.5.0",
            "_view_count": null,
            "_view_module_version": "1.2.0",
            "_model_module": "@jupyter-widgets/controls"
          }
        },
        "a7123764abd04ef9b3f15a7efa10f4fa": {
          "model_module": "@jupyter-widgets/base",
          "model_name": "LayoutModel",
          "state": {
            "_view_name": "LayoutView",
            "grid_template_rows": null,
            "right": null,
            "justify_content": null,
            "_view_module": "@jupyter-widgets/base",
            "overflow": null,
            "_model_module_version": "1.2.0",
            "_view_count": null,
            "flex_flow": null,
            "width": null,
            "min_width": null,
            "border": null,
            "align_items": null,
            "bottom": null,
            "_model_module": "@jupyter-widgets/base",
            "top": null,
            "grid_column": null,
            "overflow_y": null,
            "overflow_x": null,
            "grid_auto_flow": null,
            "grid_area": null,
            "grid_template_columns": null,
            "flex": null,
            "_model_name": "LayoutModel",
            "justify_items": null,
            "grid_row": null,
            "max_height": null,
            "align_content": null,
            "visibility": null,
            "align_self": null,
            "height": null,
            "min_height": null,
            "padding": null,
            "grid_auto_rows": null,
            "grid_gap": null,
            "max_width": null,
            "order": null,
            "_view_module_version": "1.2.0",
            "grid_template_areas": null,
            "object_position": null,
            "object_fit": null,
            "grid_auto_columns": null,
            "margin": null,
            "display": null,
            "left": null
          }
        },
        "9488ca19c74c42c5a5a1f6c1301a22c7": {
          "model_module": "@jupyter-widgets/controls",
          "model_name": "HBoxModel",
          "state": {
            "_view_name": "HBoxView",
            "_dom_classes": [],
            "_model_name": "HBoxModel",
            "_view_module": "@jupyter-widgets/controls",
            "_model_module_version": "1.5.0",
            "_view_count": null,
            "_view_module_version": "1.5.0",
            "box_style": "",
            "layout": "IPY_MODEL_84c7a908f8a744f3acc06f3d164f0651",
            "_model_module": "@jupyter-widgets/controls",
            "children": [
              "IPY_MODEL_157659e7a9074f03ac6ccbdbad06b862",
              "IPY_MODEL_4ef7e4e7fd014a7492239a59fd4270bf"
            ]
          }
        },
        "84c7a908f8a744f3acc06f3d164f0651": {
          "model_module": "@jupyter-widgets/base",
          "model_name": "LayoutModel",
          "state": {
            "_view_name": "LayoutView",
            "grid_template_rows": null,
            "right": null,
            "justify_content": null,
            "_view_module": "@jupyter-widgets/base",
            "overflow": null,
            "_model_module_version": "1.2.0",
            "_view_count": null,
            "flex_flow": null,
            "width": null,
            "min_width": null,
            "border": null,
            "align_items": null,
            "bottom": null,
            "_model_module": "@jupyter-widgets/base",
            "top": null,
            "grid_column": null,
            "overflow_y": null,
            "overflow_x": null,
            "grid_auto_flow": null,
            "grid_area": null,
            "grid_template_columns": null,
            "flex": null,
            "_model_name": "LayoutModel",
            "justify_items": null,
            "grid_row": null,
            "max_height": null,
            "align_content": null,
            "visibility": null,
            "align_self": null,
            "height": null,
            "min_height": null,
            "padding": null,
            "grid_auto_rows": null,
            "grid_gap": null,
            "max_width": null,
            "order": null,
            "_view_module_version": "1.2.0",
            "grid_template_areas": null,
            "object_position": null,
            "object_fit": null,
            "grid_auto_columns": null,
            "margin": null,
            "display": null,
            "left": null
          }
        },
        "157659e7a9074f03ac6ccbdbad06b862": {
          "model_module": "@jupyter-widgets/controls",
          "model_name": "FloatProgressModel",
          "state": {
            "_view_name": "ProgressView",
            "style": "IPY_MODEL_4323ffd99f8a429dac01c411280a37e2",
            "_dom_classes": [],
            "description": " 98%",
            "_model_name": "FloatProgressModel",
            "bar_style": "danger",
            "max": 14669,
            "_view_module": "@jupyter-widgets/controls",
            "_model_module_version": "1.5.0",
            "value": 14407,
            "_view_count": null,
            "_view_module_version": "1.5.0",
            "orientation": "horizontal",
            "min": 0,
            "description_tooltip": null,
            "_model_module": "@jupyter-widgets/controls",
            "layout": "IPY_MODEL_a348962e3f8540bbb1f942a996f51fee"
          }
        },
        "4ef7e4e7fd014a7492239a59fd4270bf": {
          "model_module": "@jupyter-widgets/controls",
          "model_name": "HTMLModel",
          "state": {
            "_view_name": "HTMLView",
            "style": "IPY_MODEL_7934bd60c8e44c6396143ad9d7171a26",
            "_dom_classes": [],
            "description": "",
            "_model_name": "HTMLModel",
            "placeholder": "​",
            "_view_module": "@jupyter-widgets/controls",
            "_model_module_version": "1.5.0",
            "value": " 14407/14669 [00:00&lt;00:00, 16578.88 examples/s]",
            "_view_count": null,
            "_view_module_version": "1.5.0",
            "description_tooltip": null,
            "_model_module": "@jupyter-widgets/controls",
            "layout": "IPY_MODEL_be9e274c47954f3496991283264c52be"
          }
        },
        "4323ffd99f8a429dac01c411280a37e2": {
          "model_module": "@jupyter-widgets/controls",
          "model_name": "ProgressStyleModel",
          "state": {
            "_view_name": "StyleView",
            "_model_name": "ProgressStyleModel",
            "description_width": "initial",
            "_view_module": "@jupyter-widgets/base",
            "_model_module_version": "1.5.0",
            "_view_count": null,
            "_view_module_version": "1.2.0",
            "bar_color": null,
            "_model_module": "@jupyter-widgets/controls"
          }
        },
        "a348962e3f8540bbb1f942a996f51fee": {
          "model_module": "@jupyter-widgets/base",
          "model_name": "LayoutModel",
          "state": {
            "_view_name": "LayoutView",
            "grid_template_rows": null,
            "right": null,
            "justify_content": null,
            "_view_module": "@jupyter-widgets/base",
            "overflow": null,
            "_model_module_version": "1.2.0",
            "_view_count": null,
            "flex_flow": null,
            "width": null,
            "min_width": null,
            "border": null,
            "align_items": null,
            "bottom": null,
            "_model_module": "@jupyter-widgets/base",
            "top": null,
            "grid_column": null,
            "overflow_y": null,
            "overflow_x": null,
            "grid_auto_flow": null,
            "grid_area": null,
            "grid_template_columns": null,
            "flex": null,
            "_model_name": "LayoutModel",
            "justify_items": null,
            "grid_row": null,
            "max_height": null,
            "align_content": null,
            "visibility": null,
            "align_self": null,
            "height": null,
            "min_height": null,
            "padding": null,
            "grid_auto_rows": null,
            "grid_gap": null,
            "max_width": null,
            "order": null,
            "_view_module_version": "1.2.0",
            "grid_template_areas": null,
            "object_position": null,
            "object_fit": null,
            "grid_auto_columns": null,
            "margin": null,
            "display": null,
            "left": null
          }
        },
        "7934bd60c8e44c6396143ad9d7171a26": {
          "model_module": "@jupyter-widgets/controls",
          "model_name": "DescriptionStyleModel",
          "state": {
            "_view_name": "StyleView",
            "_model_name": "DescriptionStyleModel",
            "description_width": "",
            "_view_module": "@jupyter-widgets/base",
            "_model_module_version": "1.5.0",
            "_view_count": null,
            "_view_module_version": "1.2.0",
            "_model_module": "@jupyter-widgets/controls"
          }
        },
        "be9e274c47954f3496991283264c52be": {
          "model_module": "@jupyter-widgets/base",
          "model_name": "LayoutModel",
          "state": {
            "_view_name": "LayoutView",
            "grid_template_rows": null,
            "right": null,
            "justify_content": null,
            "_view_module": "@jupyter-widgets/base",
            "overflow": null,
            "_model_module_version": "1.2.0",
            "_view_count": null,
            "flex_flow": null,
            "width": null,
            "min_width": null,
            "border": null,
            "align_items": null,
            "bottom": null,
            "_model_module": "@jupyter-widgets/base",
            "top": null,
            "grid_column": null,
            "overflow_y": null,
            "overflow_x": null,
            "grid_auto_flow": null,
            "grid_area": null,
            "grid_template_columns": null,
            "flex": null,
            "_model_name": "LayoutModel",
            "justify_items": null,
            "grid_row": null,
            "max_height": null,
            "align_content": null,
            "visibility": null,
            "align_self": null,
            "height": null,
            "min_height": null,
            "padding": null,
            "grid_auto_rows": null,
            "grid_gap": null,
            "max_width": null,
            "order": null,
            "_view_module_version": "1.2.0",
            "grid_template_areas": null,
            "object_position": null,
            "object_fit": null,
            "grid_auto_columns": null,
            "margin": null,
            "display": null,
            "left": null
          }
        },
        "edad976232ed4569b608ada0daa6fff1": {
          "model_module": "@jupyter-widgets/controls",
          "model_name": "HBoxModel",
          "state": {
            "_view_name": "HBoxView",
            "_dom_classes": [],
            "_model_name": "HBoxModel",
            "_view_module": "@jupyter-widgets/controls",
            "_model_module_version": "1.5.0",
            "_view_count": null,
            "_view_module_version": "1.5.0",
            "box_style": "",
            "layout": "IPY_MODEL_277a9fdc00f74e20972025074b6a8a04",
            "_model_module": "@jupyter-widgets/controls",
            "children": [
              "IPY_MODEL_b55dc05282e240b1bfaef8b84ab3e414",
              "IPY_MODEL_5b61718f6ad34f1dab7ee06e4385e2a5"
            ]
          }
        },
        "277a9fdc00f74e20972025074b6a8a04": {
          "model_module": "@jupyter-widgets/base",
          "model_name": "LayoutModel",
          "state": {
            "_view_name": "LayoutView",
            "grid_template_rows": null,
            "right": null,
            "justify_content": null,
            "_view_module": "@jupyter-widgets/base",
            "overflow": null,
            "_model_module_version": "1.2.0",
            "_view_count": null,
            "flex_flow": null,
            "width": null,
            "min_width": null,
            "border": null,
            "align_items": null,
            "bottom": null,
            "_model_module": "@jupyter-widgets/base",
            "top": null,
            "grid_column": null,
            "overflow_y": null,
            "overflow_x": null,
            "grid_auto_flow": null,
            "grid_area": null,
            "grid_template_columns": null,
            "flex": null,
            "_model_name": "LayoutModel",
            "justify_items": null,
            "grid_row": null,
            "max_height": null,
            "align_content": null,
            "visibility": null,
            "align_self": null,
            "height": null,
            "min_height": null,
            "padding": null,
            "grid_auto_rows": null,
            "grid_gap": null,
            "max_width": null,
            "order": null,
            "_view_module_version": "1.2.0",
            "grid_template_areas": null,
            "object_position": null,
            "object_fit": null,
            "grid_auto_columns": null,
            "margin": null,
            "display": null,
            "left": null
          }
        },
        "b55dc05282e240b1bfaef8b84ab3e414": {
          "model_module": "@jupyter-widgets/controls",
          "model_name": "FloatProgressModel",
          "state": {
            "_view_name": "ProgressView",
            "style": "IPY_MODEL_c632129cebfa42428e6d3f260dee5511",
            "_dom_classes": [],
            "description": "",
            "_model_name": "FloatProgressModel",
            "bar_style": "info",
            "max": 1,
            "_view_module": "@jupyter-widgets/controls",
            "_model_module_version": "1.5.0",
            "value": 1,
            "_view_count": null,
            "_view_module_version": "1.5.0",
            "orientation": "horizontal",
            "min": 0,
            "description_tooltip": null,
            "_model_module": "@jupyter-widgets/controls",
            "layout": "IPY_MODEL_a7eded557dd74df7811d8da4163fc3b6"
          }
        },
        "5b61718f6ad34f1dab7ee06e4385e2a5": {
          "model_module": "@jupyter-widgets/controls",
          "model_name": "HTMLModel",
          "state": {
            "_view_name": "HTMLView",
            "style": "IPY_MODEL_2c4152389cb2419ba8cfc83e2d8a80c4",
            "_dom_classes": [],
            "description": "",
            "_model_name": "HTMLModel",
            "placeholder": "​",
            "_view_module": "@jupyter-widgets/controls",
            "_model_module_version": "1.5.0",
            "value": " 3929/0 [00:01&lt;00:00, 2614.97 examples/s]",
            "_view_count": null,
            "_view_module_version": "1.5.0",
            "description_tooltip": null,
            "_model_module": "@jupyter-widgets/controls",
            "layout": "IPY_MODEL_d9f942bf516c464c94e0720c0bd817d1"
          }
        },
        "c632129cebfa42428e6d3f260dee5511": {
          "model_module": "@jupyter-widgets/controls",
          "model_name": "ProgressStyleModel",
          "state": {
            "_view_name": "StyleView",
            "_model_name": "ProgressStyleModel",
            "description_width": "initial",
            "_view_module": "@jupyter-widgets/base",
            "_model_module_version": "1.5.0",
            "_view_count": null,
            "_view_module_version": "1.2.0",
            "bar_color": null,
            "_model_module": "@jupyter-widgets/controls"
          }
        },
        "a7eded557dd74df7811d8da4163fc3b6": {
          "model_module": "@jupyter-widgets/base",
          "model_name": "LayoutModel",
          "state": {
            "_view_name": "LayoutView",
            "grid_template_rows": null,
            "right": null,
            "justify_content": null,
            "_view_module": "@jupyter-widgets/base",
            "overflow": null,
            "_model_module_version": "1.2.0",
            "_view_count": null,
            "flex_flow": null,
            "width": null,
            "min_width": null,
            "border": null,
            "align_items": null,
            "bottom": null,
            "_model_module": "@jupyter-widgets/base",
            "top": null,
            "grid_column": null,
            "overflow_y": null,
            "overflow_x": null,
            "grid_auto_flow": null,
            "grid_area": null,
            "grid_template_columns": null,
            "flex": null,
            "_model_name": "LayoutModel",
            "justify_items": null,
            "grid_row": null,
            "max_height": null,
            "align_content": null,
            "visibility": null,
            "align_self": null,
            "height": null,
            "min_height": null,
            "padding": null,
            "grid_auto_rows": null,
            "grid_gap": null,
            "max_width": null,
            "order": null,
            "_view_module_version": "1.2.0",
            "grid_template_areas": null,
            "object_position": null,
            "object_fit": null,
            "grid_auto_columns": null,
            "margin": null,
            "display": null,
            "left": null
          }
        },
        "2c4152389cb2419ba8cfc83e2d8a80c4": {
          "model_module": "@jupyter-widgets/controls",
          "model_name": "DescriptionStyleModel",
          "state": {
            "_view_name": "StyleView",
            "_model_name": "DescriptionStyleModel",
            "description_width": "",
            "_view_module": "@jupyter-widgets/base",
            "_model_module_version": "1.5.0",
            "_view_count": null,
            "_view_module_version": "1.2.0",
            "_model_module": "@jupyter-widgets/controls"
          }
        },
        "d9f942bf516c464c94e0720c0bd817d1": {
          "model_module": "@jupyter-widgets/base",
          "model_name": "LayoutModel",
          "state": {
            "_view_name": "LayoutView",
            "grid_template_rows": null,
            "right": null,
            "justify_content": null,
            "_view_module": "@jupyter-widgets/base",
            "overflow": null,
            "_model_module_version": "1.2.0",
            "_view_count": null,
            "flex_flow": null,
            "width": null,
            "min_width": null,
            "border": null,
            "align_items": null,
            "bottom": null,
            "_model_module": "@jupyter-widgets/base",
            "top": null,
            "grid_column": null,
            "overflow_y": null,
            "overflow_x": null,
            "grid_auto_flow": null,
            "grid_area": null,
            "grid_template_columns": null,
            "flex": null,
            "_model_name": "LayoutModel",
            "justify_items": null,
            "grid_row": null,
            "max_height": null,
            "align_content": null,
            "visibility": null,
            "align_self": null,
            "height": null,
            "min_height": null,
            "padding": null,
            "grid_auto_rows": null,
            "grid_gap": null,
            "max_width": null,
            "order": null,
            "_view_module_version": "1.2.0",
            "grid_template_areas": null,
            "object_position": null,
            "object_fit": null,
            "grid_auto_columns": null,
            "margin": null,
            "display": null,
            "left": null
          }
        },
        "4fc15f48960143f1aa5bff72c4cbed6e": {
          "model_module": "@jupyter-widgets/controls",
          "model_name": "HBoxModel",
          "state": {
            "_view_name": "HBoxView",
            "_dom_classes": [],
            "_model_name": "HBoxModel",
            "_view_module": "@jupyter-widgets/controls",
            "_model_module_version": "1.5.0",
            "_view_count": null,
            "_view_module_version": "1.5.0",
            "box_style": "",
            "layout": "IPY_MODEL_c654f91fc19944649143a891c0b66df2",
            "_model_module": "@jupyter-widgets/controls",
            "children": [
              "IPY_MODEL_482b17527c334c408eb97bcf230ce5d6",
              "IPY_MODEL_54061b827d2b47a98da4b2dbfbfd33d0"
            ]
          }
        },
        "c654f91fc19944649143a891c0b66df2": {
          "model_module": "@jupyter-widgets/base",
          "model_name": "LayoutModel",
          "state": {
            "_view_name": "LayoutView",
            "grid_template_rows": null,
            "right": null,
            "justify_content": null,
            "_view_module": "@jupyter-widgets/base",
            "overflow": null,
            "_model_module_version": "1.2.0",
            "_view_count": null,
            "flex_flow": null,
            "width": null,
            "min_width": null,
            "border": null,
            "align_items": null,
            "bottom": null,
            "_model_module": "@jupyter-widgets/base",
            "top": null,
            "grid_column": null,
            "overflow_y": null,
            "overflow_x": null,
            "grid_auto_flow": null,
            "grid_area": null,
            "grid_template_columns": null,
            "flex": null,
            "_model_name": "LayoutModel",
            "justify_items": null,
            "grid_row": null,
            "max_height": null,
            "align_content": null,
            "visibility": null,
            "align_self": null,
            "height": null,
            "min_height": null,
            "padding": null,
            "grid_auto_rows": null,
            "grid_gap": null,
            "max_width": null,
            "order": null,
            "_view_module_version": "1.2.0",
            "grid_template_areas": null,
            "object_position": null,
            "object_fit": null,
            "grid_auto_columns": null,
            "margin": null,
            "display": null,
            "left": null
          }
        },
        "482b17527c334c408eb97bcf230ce5d6": {
          "model_module": "@jupyter-widgets/controls",
          "model_name": "FloatProgressModel",
          "state": {
            "_view_name": "ProgressView",
            "style": "IPY_MODEL_a5a7ef37b4414cf4a3846bbbe1630b6c",
            "_dom_classes": [],
            "description": " 50%",
            "_model_name": "FloatProgressModel",
            "bar_style": "danger",
            "max": 3929,
            "_view_module": "@jupyter-widgets/controls",
            "_model_module_version": "1.5.0",
            "value": 1949,
            "_view_count": null,
            "_view_module_version": "1.5.0",
            "orientation": "horizontal",
            "min": 0,
            "description_tooltip": null,
            "_model_module": "@jupyter-widgets/controls",
            "layout": "IPY_MODEL_2b1d210b8cfb4916a5457d0854fb7551"
          }
        },
        "54061b827d2b47a98da4b2dbfbfd33d0": {
          "model_module": "@jupyter-widgets/controls",
          "model_name": "HTMLModel",
          "state": {
            "_view_name": "HTMLView",
            "style": "IPY_MODEL_6d3b9fa720d243a796940ef95da392c7",
            "_dom_classes": [],
            "description": "",
            "_model_name": "HTMLModel",
            "placeholder": "​",
            "_view_module": "@jupyter-widgets/controls",
            "_model_module_version": "1.5.0",
            "value": " 1949/3929 [00:00&lt;00:00, 19489.23 examples/s]",
            "_view_count": null,
            "_view_module_version": "1.5.0",
            "description_tooltip": null,
            "_model_module": "@jupyter-widgets/controls",
            "layout": "IPY_MODEL_338e0f2346f841d4b87d170fe8351d5c"
          }
        },
        "a5a7ef37b4414cf4a3846bbbe1630b6c": {
          "model_module": "@jupyter-widgets/controls",
          "model_name": "ProgressStyleModel",
          "state": {
            "_view_name": "StyleView",
            "_model_name": "ProgressStyleModel",
            "description_width": "initial",
            "_view_module": "@jupyter-widgets/base",
            "_model_module_version": "1.5.0",
            "_view_count": null,
            "_view_module_version": "1.2.0",
            "bar_color": null,
            "_model_module": "@jupyter-widgets/controls"
          }
        },
        "2b1d210b8cfb4916a5457d0854fb7551": {
          "model_module": "@jupyter-widgets/base",
          "model_name": "LayoutModel",
          "state": {
            "_view_name": "LayoutView",
            "grid_template_rows": null,
            "right": null,
            "justify_content": null,
            "_view_module": "@jupyter-widgets/base",
            "overflow": null,
            "_model_module_version": "1.2.0",
            "_view_count": null,
            "flex_flow": null,
            "width": null,
            "min_width": null,
            "border": null,
            "align_items": null,
            "bottom": null,
            "_model_module": "@jupyter-widgets/base",
            "top": null,
            "grid_column": null,
            "overflow_y": null,
            "overflow_x": null,
            "grid_auto_flow": null,
            "grid_area": null,
            "grid_template_columns": null,
            "flex": null,
            "_model_name": "LayoutModel",
            "justify_items": null,
            "grid_row": null,
            "max_height": null,
            "align_content": null,
            "visibility": null,
            "align_self": null,
            "height": null,
            "min_height": null,
            "padding": null,
            "grid_auto_rows": null,
            "grid_gap": null,
            "max_width": null,
            "order": null,
            "_view_module_version": "1.2.0",
            "grid_template_areas": null,
            "object_position": null,
            "object_fit": null,
            "grid_auto_columns": null,
            "margin": null,
            "display": null,
            "left": null
          }
        },
        "6d3b9fa720d243a796940ef95da392c7": {
          "model_module": "@jupyter-widgets/controls",
          "model_name": "DescriptionStyleModel",
          "state": {
            "_view_name": "StyleView",
            "_model_name": "DescriptionStyleModel",
            "description_width": "",
            "_view_module": "@jupyter-widgets/base",
            "_model_module_version": "1.5.0",
            "_view_count": null,
            "_view_module_version": "1.2.0",
            "_model_module": "@jupyter-widgets/controls"
          }
        },
        "338e0f2346f841d4b87d170fe8351d5c": {
          "model_module": "@jupyter-widgets/base",
          "model_name": "LayoutModel",
          "state": {
            "_view_name": "LayoutView",
            "grid_template_rows": null,
            "right": null,
            "justify_content": null,
            "_view_module": "@jupyter-widgets/base",
            "overflow": null,
            "_model_module_version": "1.2.0",
            "_view_count": null,
            "flex_flow": null,
            "width": null,
            "min_width": null,
            "border": null,
            "align_items": null,
            "bottom": null,
            "_model_module": "@jupyter-widgets/base",
            "top": null,
            "grid_column": null,
            "overflow_y": null,
            "overflow_x": null,
            "grid_auto_flow": null,
            "grid_area": null,
            "grid_template_columns": null,
            "flex": null,
            "_model_name": "LayoutModel",
            "justify_items": null,
            "grid_row": null,
            "max_height": null,
            "align_content": null,
            "visibility": null,
            "align_self": null,
            "height": null,
            "min_height": null,
            "padding": null,
            "grid_auto_rows": null,
            "grid_gap": null,
            "max_width": null,
            "order": null,
            "_view_module_version": "1.2.0",
            "grid_template_areas": null,
            "object_position": null,
            "object_fit": null,
            "grid_auto_columns": null,
            "margin": null,
            "display": null,
            "left": null
          }
        }
      }
    }
  },
  "cells": [
    {
      "cell_type": "markdown",
      "metadata": {
        "id": "view-in-github",
        "colab_type": "text"
      },
      "source": [
        "<a href=\"https://colab.research.google.com/github/Abhinandan-Pal/Deep-Forgery/blob/main/%3CGithub%3EForgery_Test_2.ipynb\" target=\"_parent\"><img src=\"https://colab.research.google.com/assets/colab-badge.svg\" alt=\"Open In Colab\"/></a>"
      ]
    },
    {
      "cell_type": "code",
      "metadata": {
        "id": "fgSkOv84ZLfC"
      },
      "source": [
        "#https://www.tensorflow.org/datasets/catalog/imagewang\n",
        "#dataset"
      ],
      "execution_count": null,
      "outputs": []
    },
    {
      "cell_type": "code",
      "metadata": {
        "id": "BLVudD-hRBwy",
        "colab": {
          "base_uri": "https://localhost:8080/"
        },
        "outputId": "8f7c2fa0-1b1d-4277-e81f-d24e32ed6a18"
      },
      "source": [
        "!pip install -U tensorflow-addons"
      ],
      "execution_count": null,
      "outputs": [
        {
          "output_type": "stream",
          "text": [
            "Collecting tensorflow-addons\n",
            "\u001b[?25l  Downloading https://files.pythonhosted.org/packages/d6/98/8e97194e774f35a1319668e12571d5fa19f323e0ccae9d9890258aab1fcc/tensorflow_addons-0.12.0-cp36-cp36m-manylinux2010_x86_64.whl (703kB)\n",
            "\r\u001b[K     |▌                               | 10kB 16.5MB/s eta 0:00:01\r\u001b[K     |█                               | 20kB 20.1MB/s eta 0:00:01\r\u001b[K     |█▍                              | 30kB 10.1MB/s eta 0:00:01\r\u001b[K     |█▉                              | 40kB 8.4MB/s eta 0:00:01\r\u001b[K     |██▎                             | 51kB 7.1MB/s eta 0:00:01\r\u001b[K     |██▉                             | 61kB 7.2MB/s eta 0:00:01\r\u001b[K     |███▎                            | 71kB 8.0MB/s eta 0:00:01\r\u001b[K     |███▊                            | 81kB 7.5MB/s eta 0:00:01\r\u001b[K     |████▏                           | 92kB 7.3MB/s eta 0:00:01\r\u001b[K     |████▋                           | 102kB 6.9MB/s eta 0:00:01\r\u001b[K     |█████▏                          | 112kB 6.9MB/s eta 0:00:01\r\u001b[K     |█████▋                          | 122kB 6.9MB/s eta 0:00:01\r\u001b[K     |██████                          | 133kB 6.9MB/s eta 0:00:01\r\u001b[K     |██████▌                         | 143kB 6.9MB/s eta 0:00:01\r\u001b[K     |███████                         | 153kB 6.9MB/s eta 0:00:01\r\u001b[K     |███████▌                        | 163kB 6.9MB/s eta 0:00:01\r\u001b[K     |████████                        | 174kB 6.9MB/s eta 0:00:01\r\u001b[K     |████████▍                       | 184kB 6.9MB/s eta 0:00:01\r\u001b[K     |████████▉                       | 194kB 6.9MB/s eta 0:00:01\r\u001b[K     |█████████▎                      | 204kB 6.9MB/s eta 0:00:01\r\u001b[K     |█████████▉                      | 215kB 6.9MB/s eta 0:00:01\r\u001b[K     |██████████▎                     | 225kB 6.9MB/s eta 0:00:01\r\u001b[K     |██████████▊                     | 235kB 6.9MB/s eta 0:00:01\r\u001b[K     |███████████▏                    | 245kB 6.9MB/s eta 0:00:01\r\u001b[K     |███████████▋                    | 256kB 6.9MB/s eta 0:00:01\r\u001b[K     |████████████▏                   | 266kB 6.9MB/s eta 0:00:01\r\u001b[K     |████████████▋                   | 276kB 6.9MB/s eta 0:00:01\r\u001b[K     |█████████████                   | 286kB 6.9MB/s eta 0:00:01\r\u001b[K     |█████████████▌                  | 296kB 6.9MB/s eta 0:00:01\r\u001b[K     |██████████████                  | 307kB 6.9MB/s eta 0:00:01\r\u001b[K     |██████████████▍                 | 317kB 6.9MB/s eta 0:00:01\r\u001b[K     |███████████████                 | 327kB 6.9MB/s eta 0:00:01\r\u001b[K     |███████████████▍                | 337kB 6.9MB/s eta 0:00:01\r\u001b[K     |███████████████▉                | 348kB 6.9MB/s eta 0:00:01\r\u001b[K     |████████████████▎               | 358kB 6.9MB/s eta 0:00:01\r\u001b[K     |████████████████▊               | 368kB 6.9MB/s eta 0:00:01\r\u001b[K     |█████████████████▎              | 378kB 6.9MB/s eta 0:00:01\r\u001b[K     |█████████████████▊              | 389kB 6.9MB/s eta 0:00:01\r\u001b[K     |██████████████████▏             | 399kB 6.9MB/s eta 0:00:01\r\u001b[K     |██████████████████▋             | 409kB 6.9MB/s eta 0:00:01\r\u001b[K     |███████████████████             | 419kB 6.9MB/s eta 0:00:01\r\u001b[K     |███████████████████▋            | 430kB 6.9MB/s eta 0:00:01\r\u001b[K     |████████████████████            | 440kB 6.9MB/s eta 0:00:01\r\u001b[K     |████████████████████▌           | 450kB 6.9MB/s eta 0:00:01\r\u001b[K     |█████████████████████           | 460kB 6.9MB/s eta 0:00:01\r\u001b[K     |█████████████████████▍          | 471kB 6.9MB/s eta 0:00:01\r\u001b[K     |██████████████████████          | 481kB 6.9MB/s eta 0:00:01\r\u001b[K     |██████████████████████▍         | 491kB 6.9MB/s eta 0:00:01\r\u001b[K     |██████████████████████▉         | 501kB 6.9MB/s eta 0:00:01\r\u001b[K     |███████████████████████▎        | 512kB 6.9MB/s eta 0:00:01\r\u001b[K     |███████████████████████▊        | 522kB 6.9MB/s eta 0:00:01\r\u001b[K     |████████████████████████▎       | 532kB 6.9MB/s eta 0:00:01\r\u001b[K     |████████████████████████▊       | 542kB 6.9MB/s eta 0:00:01\r\u001b[K     |█████████████████████████▏      | 552kB 6.9MB/s eta 0:00:01\r\u001b[K     |█████████████████████████▋      | 563kB 6.9MB/s eta 0:00:01\r\u001b[K     |██████████████████████████      | 573kB 6.9MB/s eta 0:00:01\r\u001b[K     |██████████████████████████▌     | 583kB 6.9MB/s eta 0:00:01\r\u001b[K     |███████████████████████████     | 593kB 6.9MB/s eta 0:00:01\r\u001b[K     |███████████████████████████▌    | 604kB 6.9MB/s eta 0:00:01\r\u001b[K     |████████████████████████████    | 614kB 6.9MB/s eta 0:00:01\r\u001b[K     |████████████████████████████▍   | 624kB 6.9MB/s eta 0:00:01\r\u001b[K     |████████████████████████████▉   | 634kB 6.9MB/s eta 0:00:01\r\u001b[K     |█████████████████████████████▍  | 645kB 6.9MB/s eta 0:00:01\r\u001b[K     |█████████████████████████████▉  | 655kB 6.9MB/s eta 0:00:01\r\u001b[K     |██████████████████████████████▎ | 665kB 6.9MB/s eta 0:00:01\r\u001b[K     |██████████████████████████████▊ | 675kB 6.9MB/s eta 0:00:01\r\u001b[K     |███████████████████████████████▏| 686kB 6.9MB/s eta 0:00:01\r\u001b[K     |███████████████████████████████▊| 696kB 6.9MB/s eta 0:00:01\r\u001b[K     |████████████████████████████████| 706kB 6.9MB/s \n",
            "\u001b[?25hRequirement already satisfied, skipping upgrade: typeguard>=2.7 in /usr/local/lib/python3.6/dist-packages (from tensorflow-addons) (2.7.1)\n",
            "Installing collected packages: tensorflow-addons\n",
            "  Found existing installation: tensorflow-addons 0.8.3\n",
            "    Uninstalling tensorflow-addons-0.8.3:\n",
            "      Successfully uninstalled tensorflow-addons-0.8.3\n",
            "Successfully installed tensorflow-addons-0.12.0\n"
          ],
          "name": "stdout"
        }
      ]
    },
    {
      "cell_type": "code",
      "metadata": {
        "colab": {
          "base_uri": "https://localhost:8080/"
        },
        "id": "fratlOGjeceR",
        "outputId": "3f8f1ab5-819c-4028-c8f1-81d942d4a78c"
      },
      "source": [
        "from google.colab import drive\n",
        "drive.mount('/content/gdrive')"
      ],
      "execution_count": null,
      "outputs": [
        {
          "output_type": "stream",
          "text": [
            "Mounted at /content/gdrive\n"
          ],
          "name": "stdout"
        }
      ]
    },
    {
      "cell_type": "code",
      "metadata": {
        "id": "JFlT7b_fTd8k"
      },
      "source": [
        "import tensorflow as tf\n",
        "import random\n",
        "import numpy as np"
      ],
      "execution_count": null,
      "outputs": []
    },
    {
      "cell_type": "code",
      "metadata": {
        "id": "zeb5gEDpTjG_",
        "colab": {
          "base_uri": "https://localhost:8080/"
        },
        "outputId": "589af647-b90f-44b1-83d9-47fcfcbfc789"
      },
      "source": [
        "!pip install git+https://github.com/tensorflow/examples.git"
      ],
      "execution_count": null,
      "outputs": [
        {
          "output_type": "stream",
          "text": [
            "Collecting git+https://github.com/tensorflow/examples.git\n",
            "  Cloning https://github.com/tensorflow/examples.git to /tmp/pip-req-build-lv50d0ai\n",
            "  Running command git clone -q https://github.com/tensorflow/examples.git /tmp/pip-req-build-lv50d0ai\n",
            "Requirement already satisfied: absl-py in /usr/local/lib/python3.6/dist-packages (from tensorflow-examples===280abd2f5d901e02af8bd4300c699d0146749037-) (0.10.0)\n",
            "Requirement already satisfied: six in /usr/local/lib/python3.6/dist-packages (from tensorflow-examples===280abd2f5d901e02af8bd4300c699d0146749037-) (1.15.0)\n",
            "Building wheels for collected packages: tensorflow-examples\n",
            "  Building wheel for tensorflow-examples (setup.py) ... \u001b[?25l\u001b[?25hdone\n",
            "  Created wheel for tensorflow-examples: filename=tensorflow_examples-280abd2f5d901e02af8bd4300c699d0146749037_-cp36-none-any.whl size=188735 sha256=534549e7e31e2b4f9f9ee0589680c3eba853676b121c1999da95998a99dfd3d0\n",
            "  Stored in directory: /tmp/pip-ephem-wheel-cache-bptb7if9/wheels/83/64/b3/4cfa02dc6f9d16bf7257892c6a7ec602cd7e0ff6ec4d7d714d\n",
            "Successfully built tensorflow-examples\n",
            "Installing collected packages: tensorflow-examples\n",
            "Successfully installed tensorflow-examples-280abd2f5d901e02af8bd4300c699d0146749037-\n"
          ],
          "name": "stdout"
        }
      ]
    },
    {
      "cell_type": "code",
      "metadata": {
        "id": "_s5deij2Tq5j"
      },
      "source": [
        "import tensorflow_addons as tfa\n",
        "\n",
        "import tensorflow_datasets as tfds\n",
        "from tensorflow_examples.models.pix2pix import pix2pix\n",
        "\n",
        "import os\n",
        "import time\n",
        "import matplotlib.pyplot as plt\n",
        "from IPython.display import clear_output\n",
        "\n",
        "AUTOTUNE = tf.data.experimental.AUTOTUNE"
      ],
      "execution_count": null,
      "outputs": []
    },
    {
      "cell_type": "code",
      "metadata": {
        "id": "KUXmkSRdT8vR",
        "colab": {
          "base_uri": "https://localhost:8080/",
          "height": 371,
          "referenced_widgets": [
            "ab298ca334bd4eea86fe6d286cce16c2",
            "f9e0fb601ce241bbbd0ec399de62405e",
            "10f5867cfe394237b1c731375ec62799",
            "2e884ef1f89e43d7a5f1a9cf65fa2312",
            "b00313622cf248259a29c314e22130c6",
            "c9833c4a635744cd91d10aef5fe6499c",
            "3e44983c8c2c4fe6837d4f5daf7573b4",
            "8a1a63d5bd9d43eb8905d382bfd4d06b",
            "2886804946484938ae7bc24c38fc8303",
            "2ef4986b428b4728996f9e6ddd4f276d",
            "c850ead1f53e4d648991d0ed1254e44b",
            "4e7199905b824121b50416eb5330b9c1",
            "518f7c20850646f78a2988c26cc3122d",
            "8197897bab41486691d290ec2d0f9317",
            "db32d4811f374f3ea28b8ba02b833a55",
            "85ab4a546f3f49259dcdc2d5b29b2fe0",
            "a0f9b32d41ca47e1bc40924f274f85af",
            "9baccff85ca24a838a79fafa45618c97",
            "9b0906e721874a8b8912544303635896",
            "2a6161753c214dbc82976df14ae1a127",
            "e6ab4ae764d040408ce3135b9172bb94",
            "7ffc65b39931440b9c02b383a4c3d55e",
            "c99a3eb0c14c4671bfbee19be5bc01ad",
            "a82231e036ce4c0d87145da6ef2f3104",
            "2e807931b44c461eb328f5bd92ba5598",
            "119c15f8fbd241a387868f16ff1c42d4",
            "2456e0dde7ee41f7a7cc02d98cd46808",
            "26f1e97ef09542738cd81cc8fd426669",
            "cb01509a3d4640acbaeff400f88501ed",
            "db9333973c204413a49f7c3d4fd1930c",
            "2faf5d95fb034963909aff87bbc9bb82",
            "a7123764abd04ef9b3f15a7efa10f4fa",
            "9488ca19c74c42c5a5a1f6c1301a22c7",
            "84c7a908f8a744f3acc06f3d164f0651",
            "157659e7a9074f03ac6ccbdbad06b862",
            "4ef7e4e7fd014a7492239a59fd4270bf",
            "4323ffd99f8a429dac01c411280a37e2",
            "a348962e3f8540bbb1f942a996f51fee",
            "7934bd60c8e44c6396143ad9d7171a26",
            "be9e274c47954f3496991283264c52be",
            "edad976232ed4569b608ada0daa6fff1",
            "277a9fdc00f74e20972025074b6a8a04",
            "b55dc05282e240b1bfaef8b84ab3e414",
            "5b61718f6ad34f1dab7ee06e4385e2a5",
            "c632129cebfa42428e6d3f260dee5511",
            "a7eded557dd74df7811d8da4163fc3b6",
            "2c4152389cb2419ba8cfc83e2d8a80c4",
            "d9f942bf516c464c94e0720c0bd817d1",
            "4fc15f48960143f1aa5bff72c4cbed6e",
            "c654f91fc19944649143a891c0b66df2",
            "482b17527c334c408eb97bcf230ce5d6",
            "54061b827d2b47a98da4b2dbfbfd33d0",
            "a5a7ef37b4414cf4a3846bbbe1630b6c",
            "2b1d210b8cfb4916a5457d0854fb7551",
            "6d3b9fa720d243a796940ef95da392c7",
            "338e0f2346f841d4b87d170fe8351d5c"
          ]
        },
        "outputId": "4e4f7217-f245-4049-d527-96b9318a87de"
      },
      "source": [
        "dataset, metadata = tfds.load('imagewang/320px',split= 'train',\n",
        "                              with_info=True, as_supervised=True,shuffle_files=True)\n",
        "dataset_val, metadata = tfds.load('imagewang/320px',split= 'validation',\n",
        "                              with_info=True, as_supervised=True,shuffle_files=True)\n",
        "\n",
        "#train_horses, train_zebras = dataset['trainA'], dataset['trainB']\n",
        "#test_horses, test_zebras = dataset['testA'], dataset['testB']"
      ],
      "execution_count": null,
      "outputs": [
        {
          "output_type": "stream",
          "text": [
            "\u001b[1mDownloading and preparing dataset imagewang/320px/2.0.0 (download: Unknown size, generated: 460.81 MiB, total: 460.81 MiB) to /root/tensorflow_datasets/imagewang/320px/2.0.0...\u001b[0m\n"
          ],
          "name": "stdout"
        },
        {
          "output_type": "display_data",
          "data": {
            "application/vnd.jupyter.widget-view+json": {
              "model_id": "ab298ca334bd4eea86fe6d286cce16c2",
              "version_minor": 0,
              "version_major": 2
            },
            "text/plain": [
              "HBox(children=(FloatProgress(value=1.0, bar_style='info', description='Dl Completed...', max=1.0, style=Progre…"
            ]
          },
          "metadata": {
            "tags": []
          }
        },
        {
          "output_type": "display_data",
          "data": {
            "application/vnd.jupyter.widget-view+json": {
              "model_id": "2886804946484938ae7bc24c38fc8303",
              "version_minor": 0,
              "version_major": 2
            },
            "text/plain": [
              "HBox(children=(FloatProgress(value=1.0, bar_style='info', description='Dl Size...', max=1.0, style=ProgressSty…"
            ]
          },
          "metadata": {
            "tags": []
          }
        },
        {
          "output_type": "display_data",
          "data": {
            "application/vnd.jupyter.widget-view+json": {
              "model_id": "a0f9b32d41ca47e1bc40924f274f85af",
              "version_minor": 0,
              "version_major": 2
            },
            "text/plain": [
              "HBox(children=(FloatProgress(value=1.0, bar_style='info', description='Extraction completed...', max=1.0, styl…"
            ]
          },
          "metadata": {
            "tags": []
          }
        },
        {
          "output_type": "stream",
          "text": [
            "\n",
            "\n",
            "\n",
            "\n",
            "\n",
            "\n"
          ],
          "name": "stdout"
        },
        {
          "output_type": "display_data",
          "data": {
            "application/vnd.jupyter.widget-view+json": {
              "model_id": "2e807931b44c461eb328f5bd92ba5598",
              "version_minor": 0,
              "version_major": 2
            },
            "text/plain": [
              "HBox(children=(FloatProgress(value=1.0, bar_style='info', max=1.0), HTML(value='')))"
            ]
          },
          "metadata": {
            "tags": []
          }
        },
        {
          "output_type": "stream",
          "text": [
            "\rShuffling and writing examples to /root/tensorflow_datasets/imagewang/320px/2.0.0.incomplete5XN3JM/imagewang-train.tfrecord\n"
          ],
          "name": "stdout"
        },
        {
          "output_type": "display_data",
          "data": {
            "application/vnd.jupyter.widget-view+json": {
              "model_id": "9488ca19c74c42c5a5a1f6c1301a22c7",
              "version_minor": 0,
              "version_major": 2
            },
            "text/plain": [
              "HBox(children=(FloatProgress(value=0.0, max=14669.0), HTML(value='')))"
            ]
          },
          "metadata": {
            "tags": []
          }
        },
        {
          "output_type": "stream",
          "text": [
            "\r"
          ],
          "name": "stdout"
        },
        {
          "output_type": "display_data",
          "data": {
            "application/vnd.jupyter.widget-view+json": {
              "model_id": "edad976232ed4569b608ada0daa6fff1",
              "version_minor": 0,
              "version_major": 2
            },
            "text/plain": [
              "HBox(children=(FloatProgress(value=1.0, bar_style='info', max=1.0), HTML(value='')))"
            ]
          },
          "metadata": {
            "tags": []
          }
        },
        {
          "output_type": "stream",
          "text": [
            "\rShuffling and writing examples to /root/tensorflow_datasets/imagewang/320px/2.0.0.incomplete5XN3JM/imagewang-validation.tfrecord\n"
          ],
          "name": "stdout"
        },
        {
          "output_type": "display_data",
          "data": {
            "application/vnd.jupyter.widget-view+json": {
              "model_id": "4fc15f48960143f1aa5bff72c4cbed6e",
              "version_minor": 0,
              "version_major": 2
            },
            "text/plain": [
              "HBox(children=(FloatProgress(value=0.0, max=3929.0), HTML(value='')))"
            ]
          },
          "metadata": {
            "tags": []
          }
        },
        {
          "output_type": "stream",
          "text": [
            "\u001b[1mDataset imagewang downloaded and prepared to /root/tensorflow_datasets/imagewang/320px/2.0.0. Subsequent calls will reuse this data.\u001b[0m\n",
            "\r"
          ],
          "name": "stdout"
        }
      ]
    },
    {
      "cell_type": "code",
      "metadata": {
        "id": "z4Itcfm-UYeF"
      },
      "source": [
        "BUFFER_SIZE = 1000\n",
        "BATCH_SIZE = 1\n",
        "IMG_WIDTH = 256\n",
        "IMG_HEIGHT = 256"
      ],
      "execution_count": null,
      "outputs": []
    },
    {
      "cell_type": "markdown",
      "metadata": {
        "id": "6KIlsI2zMqjr"
      },
      "source": [
        "# **Create Data**"
      ]
    },
    {
      "cell_type": "code",
      "metadata": {
        "id": "1kbjWOAnUgMh"
      },
      "source": [
        "# normalizing the images to [-1, 1]\n",
        "def normalize(image):\n",
        "  image = tf.image.resize(image,[IMG_HEIGHT,IMG_WIDTH])\n",
        "  image = tf.cast(image, tf.float32)\n",
        "  image = (image / 127.5) - 1\n",
        "  return image"
      ],
      "execution_count": null,
      "outputs": []
    },
    {
      "cell_type": "code",
      "metadata": {
        "id": "V0vz4XaYUgy-"
      },
      "source": [
        "def preprocess_image_orginal(image, label):\n",
        "  image = normalize(image)\n",
        "  return image"
      ],
      "execution_count": null,
      "outputs": []
    },
    {
      "cell_type": "code",
      "metadata": {
        "colab": {
          "base_uri": "https://localhost:8080/",
          "height": 269
        },
        "id": "dr7H-Ehif31k",
        "outputId": "869a6ca0-1d27-480d-c882-20deee07edd3"
      },
      "source": [
        "for x,l in dataset.take(1):\n",
        "  plt.imshow(preprocess_image_orginal(x,l)*0.5 + 0.5)\n"
      ],
      "execution_count": null,
      "outputs": [
        {
          "output_type": "display_data",
          "data": {
            "image/png": "[encoded data removed]",
            "text/plain": [
              "<Figure size 432x288 with 1 Axes>"
            ]
          },
          "metadata": {
            "tags": [],
            "needs_background": "light"
          }
        }
      ]
    },
    {
      "cell_type": "code",
      "metadata": {
        "id": "7MY6HuMxCOvz"
      },
      "source": [
        "def image__hsv_in_yiq(image):\n",
        "  delta = 0.5\n",
        "  lower_saturation = 0.1\n",
        "  upper_saturation = 0.9\n",
        "  lower_value = 0.2\n",
        "  upper_value = 0.8\n",
        "  image= tfa.image.random_hsv_in_yiq(image, delta, lower_saturation, upper_saturation, lower_value, upper_value)\n",
        "  return image"
      ],
      "execution_count": null,
      "outputs": []
    },
    {
      "cell_type": "code",
      "metadata": {
        "id": "SvGsfOOR5JBX"
      },
      "source": [
        "#There is some issue with this edit\n",
        "def image_Dense_Image_Warp(image):\n",
        "  input_img = tf.image.convert_image_dtype(tf.expand_dims(image, 0), tf.dtypes.float32)\n",
        "\n",
        "  flow_shape = [1, input_img.shape[1], input_img.shape[2], 2]\n",
        "  init_flows = np.float32(np.random.normal(size=flow_shape) * 1)\n",
        "  dense_img_warp = tfa.image.dense_image_warp(input_img, init_flows)\n",
        "  image = tf.squeeze(dense_img_warp, 0)\n",
        "  return image"
      ],
      "execution_count": null,
      "outputs": []
    },
    {
      "cell_type": "code",
      "metadata": {
        "id": "L0miBOrPKskq"
      },
      "source": [
        "def gen_rotate(image):\n",
        "  image = tfa.image.rotate(image, tf.constant(np.pi/ random.randrange(32,128)))\n",
        "  return image"
      ],
      "execution_count": null,
      "outputs": []
    },
    {
      "cell_type": "code",
      "metadata": {
        "id": "41PoKnAUJrmV"
      },
      "source": [
        "def gen_transform(image):\n",
        "  n = 0.3\n",
        "  rand = np.random.rand(6)*n-n/2\n",
        "  image = tfa.image.transform(image, [1.0 + rand[0], 0.0 + rand[1], 0.0 + rand[2], 0.0 + rand[3], 1.0 + rand[4], 0.0 + rand[5], 0.0, 0.0])\n",
        "  return image"
      ],
      "execution_count": null,
      "outputs": []
    },
    {
      "cell_type": "code",
      "metadata": {
        "id": "6ip-5GG3PoiI"
      },
      "source": [
        "def gen_median_filter2d(image):\n",
        "  image = tfa.image.median_filter2d(image, filter_shape=5)\n",
        "  return image"
      ],
      "execution_count": null,
      "outputs": []
    },
    {
      "cell_type": "code",
      "metadata": {
        "id": "9S3y3Ip_QYIN"
      },
      "source": [
        "def gen_mean_filter2d(image):\n",
        "  image = tfa.image.mean_filter2d(image, filter_shape=5)\n",
        "  return image"
      ],
      "execution_count": null,
      "outputs": []
    },
    {
      "cell_type": "code",
      "metadata": {
        "id": "SCe2zGlF1ROe"
      },
      "source": [
        "def generate_edit(image,label):\n",
        "  image = normalize(image)\n",
        "  if(random.random()<0.9):\n",
        "    image = gen_rotate(image)\n",
        "  if(random.random()<0.9):\n",
        "    image = gen_transform(image)\n",
        "  #if(random.random()<0.6):\n",
        "    #image = image_Dense_Image_Warp(image)\n",
        "  if(random.random()<0.6):\n",
        "    image = image__hsv_in_yiq(image)\n",
        "  if(random.random()<0.6):\n",
        "    rn = random.random();\n",
        "    if(rn<0.5):\n",
        "      image = gen_median_filter2d(image)\n",
        "    elif(rn<1):\n",
        "      image = gen_mean_filter2d(image)\n",
        "  return image"
      ],
      "execution_count": null,
      "outputs": []
    },
    {
      "cell_type": "code",
      "metadata": {
        "colab": {
          "base_uri": "https://localhost:8080/",
          "height": 305
        },
        "id": "hlMJSwUpf_Vg",
        "outputId": "96102167-066b-470d-9410-ed528e269392"
      },
      "source": [
        "for x,l in dataset.take(5):  \n",
        "  plt.subplot(121)\n",
        "  plt.title('original')\n",
        "  plt.imshow(preprocess_image_orginal(x,l) * 0.5 + 0.5)\n",
        "\n",
        "  plt.subplot(122)\n",
        "  plt.title('Forged_edit')\n",
        "  plt.imshow(generate_edit(x,l) * 0.5 + 0.5)"
      ],
      "execution_count": null,
      "outputs": [
        {
          "output_type": "stream",
          "text": [
            "/usr/local/lib/python3.6/dist-packages/ipykernel_launcher.py:2: MatplotlibDeprecationWarning: Adding an axes using the same arguments as a previous axes currently reuses the earlier instance.  In a future version, a new instance will always be created and returned.  Meanwhile, this warning can be suppressed, and the future behavior ensured, by passing a unique label to each axes instance.\n",
            "  \n",
            "/usr/local/lib/python3.6/dist-packages/ipykernel_launcher.py:6: MatplotlibDeprecationWarning: Adding an axes using the same arguments as a previous axes currently reuses the earlier instance.  In a future version, a new instance will always be created and returned.  Meanwhile, this warning can be suppressed, and the future behavior ensured, by passing a unique label to each axes instance.\n",
            "  \n"
          ],
          "name": "stderr"
        },
        {
          "output_type": "display_data",
          "data": {
            "image/png": "[encoded data removed]",
            "text/plain": [
              "<Figure size 432x288 with 2 Axes>"
            ]
          },
          "metadata": {
            "tags": [],
            "needs_background": "light"
          }
        }
      ]
    },
    {
      "cell_type": "code",
      "metadata": {
        "id": "3pb3-M9QUksD"
      },
      "source": [
        "original = dataset.map(\n",
        "    preprocess_image_orginal, num_parallel_calls=AUTOTUNE).cache().shuffle(\n",
        "    BUFFER_SIZE).batch(1)\n",
        "\n",
        "Forged_detectable  = dataset.map(\n",
        "    generate_edit, num_parallel_calls=AUTOTUNE).cache().shuffle(\n",
        "    BUFFER_SIZE).batch(1)    \n",
        "\n",
        "test_original= dataset_val.map(\n",
        "    preprocess_image_orginal, num_parallel_calls=AUTOTUNE).cache().shuffle(\n",
        "    BUFFER_SIZE).batch(1)\n",
        "\n",
        "test_Forged_detectable = dataset_val.map(\n",
        "    generate_edit, num_parallel_calls=AUTOTUNE).cache().shuffle(\n",
        "    BUFFER_SIZE).batch(1) "
      ],
      "execution_count": null,
      "outputs": []
    },
    {
      "cell_type": "code",
      "metadata": {
        "id": "mEPcZ81SWa6R",
        "colab": {
          "base_uri": "https://localhost:8080/",
          "height": 233
        },
        "outputId": "42d567c8-4b48-4377-8817-47420ebe4206"
      },
      "source": [
        "sample_original = next(iter(original))\n",
        "sample_Forged_detectable = next(iter(Forged_detectable))\n",
        "\n",
        "plt.subplot(121)\n",
        "plt.title('original')\n",
        "plt.imshow(sample_original[0] * 0.5 + 0.5)\n",
        "\n",
        "plt.subplot(122)\n",
        "plt.title('Forged_detectable')\n",
        "plt.imshow(sample_Forged_detectable[0] * 0.5 + 0.5)"
      ],
      "execution_count": null,
      "outputs": [
        {
          "output_type": "execute_result",
          "data": {
            "text/plain": [
              "<matplotlib.image.AxesImage at 0x7fb1e464c3c8>"
            ]
          },
          "metadata": {
            "tags": []
          },
          "execution_count": 21
        },
        {
          "output_type": "display_data",
          "data": {
            "image/png": "[encoded data removed]",
            "text/plain": [
              "<Figure size 432x288 with 2 Axes>"
            ]
          },
          "metadata": {
            "tags": [],
            "needs_background": "light"
          }
        }
      ]
    },
    {
      "cell_type": "markdown",
      "metadata": {
        "id": "xMAIeWzGMxS5"
      },
      "source": [
        "# **Create Model**"
      ]
    },
    {
      "cell_type": "code",
      "metadata": {
        "id": "W6RgNZC7M17_"
      },
      "source": [
        "def downsample(filters, size, norm_type='batchnorm', apply_norm=True):\n",
        "  \"\"\"Downsamples an input.\n",
        "  Conv2D => Batchnorm => LeakyRelu\n",
        "  Args:\n",
        "    filters: number of filters\n",
        "    size: filter size\n",
        "    norm_type: Normalization type; either 'batchnorm' or 'instancenorm'.\n",
        "    apply_norm: If True, adds the batchnorm layer\n",
        "  Returns:\n",
        "    Downsample Sequential Model\n",
        "  \"\"\"\n",
        "  initializer = tf.random_normal_initializer(0., 0.02)\n",
        "\n",
        "  result = tf.keras.Sequential()\n",
        "  result.add(\n",
        "      tf.keras.layers.Conv2D(filters, size, strides=2, padding='same',\n",
        "                             kernel_initializer=initializer, use_bias=False))\n",
        "\n",
        "  if apply_norm:\n",
        "    if norm_type.lower() == 'batchnorm':\n",
        "      result.add(tf.keras.layers.BatchNormalization())\n",
        "    elif norm_type.lower() == 'instancenorm':\n",
        "      result.add(InstanceNormalization())\n",
        "\n",
        "  result.add(tf.keras.layers.LeakyReLU())\n",
        "\n",
        "  return result"
      ],
      "execution_count": null,
      "outputs": []
    },
    {
      "cell_type": "code",
      "metadata": {
        "id": "4oBCO9I_NCq1"
      },
      "source": [
        "def upsample(filters, size, norm_type='batchnorm', apply_dropout=False):\n",
        "  \"\"\"Upsamples an input.\n",
        "  Conv2DTranspose => Batchnorm => Dropout => Relu\n",
        "  Args:\n",
        "    filters: number of filters\n",
        "    size: filter size\n",
        "    norm_type: Normalization type; either 'batchnorm' or 'instancenorm'.\n",
        "    apply_dropout: If True, adds the dropout layer\n",
        "  Returns:\n",
        "    Upsample Sequential Model\n",
        "  \"\"\"\n",
        "\n",
        "  initializer = tf.random_normal_initializer(0., 0.02)\n",
        "\n",
        "  result = tf.keras.Sequential()\n",
        "  result.add(\n",
        "      tf.keras.layers.Conv2DTranspose(filters, size, strides=2,\n",
        "                                      padding='same',\n",
        "                                      kernel_initializer=initializer,\n",
        "                                      use_bias=False))\n",
        "\n",
        "  if norm_type.lower() == 'batchnorm':\n",
        "    result.add(tf.keras.layers.BatchNormalization())\n",
        "  elif norm_type.lower() == 'instancenorm':\n",
        "    result.add(InstanceNormalization())\n",
        "\n",
        "  if apply_dropout:\n",
        "    result.add(tf.keras.layers.Dropout(0.5))\n",
        "\n",
        "  result.add(tf.keras.layers.ReLU())\n",
        "\n",
        "  return result\n"
      ],
      "execution_count": null,
      "outputs": []
    },
    {
      "cell_type": "code",
      "metadata": {
        "id": "mLMcz87iNIk1"
      },
      "source": [
        "def unet_generator(output_channels, norm_type='batchnorm'):\n",
        "  \"\"\"Modified u-net generator model (https://arxiv.org/abs/1611.07004).\n",
        "  Args:\n",
        "    output_channels: Output channels\n",
        "    norm_type: Type of normalization. Either 'batchnorm' or 'instancenorm'.\n",
        "  Returns:\n",
        "    Generator model\n",
        "  \"\"\"\n",
        "\n",
        "  down_stack = [\n",
        "      downsample(64, 4, norm_type, apply_norm=False),  # (bs, 128, 128, 64)\n",
        "      downsample(128, 4, norm_type),  # (bs, 64, 64, 128)\n",
        "      downsample(256, 4, norm_type),  # (bs, 32, 32, 256)\n",
        "      downsample(512, 4, norm_type),  # (bs, 16, 16, 512)\n",
        "      downsample(512, 4, norm_type),  # (bs, 8, 8, 512)\n",
        "      downsample(512, 4, norm_type),  # (bs, 4, 4, 512)\n",
        "      downsample(512, 4, norm_type),  # (bs, 2, 2, 512)\n",
        "      downsample(512, 4, norm_type),  # (bs, 1, 1, 512)\n",
        "  ]\n",
        "\n",
        "  up_stack = [\n",
        "      upsample(512, 4, norm_type, apply_dropout=True),  # (bs, 2, 2, 1024)\n",
        "      upsample(512, 4, norm_type, apply_dropout=True),  # (bs, 4, 4, 1024)\n",
        "      upsample(512, 4, norm_type, apply_dropout=True),  # (bs, 8, 8, 1024)\n",
        "      upsample(512, 4, norm_type),  # (bs, 16, 16, 1024)\n",
        "      upsample(256, 4, norm_type),  # (bs, 32, 32, 512)\n",
        "      upsample(128, 4, norm_type),  # (bs, 64, 64, 256)\n",
        "      upsample(64, 4, norm_type),  # (bs, 128, 128, 128)\n",
        "  ]\n",
        "\n",
        "  initializer = tf.random_normal_initializer(0., 0.02)\n",
        "  last = tf.keras.layers.Conv2DTranspose(\n",
        "      output_channels, 4, strides=2,\n",
        "      padding='same', kernel_initializer=initializer,\n",
        "      activation='tanh')  # (bs, 256, 256, 3)\n",
        "\n",
        "  concat = tf.keras.layers.Concatenate()\n",
        "\n",
        "  inputs = tf.keras.layers.Input(shape=[None, None, 3])\n",
        "  x = inputs\n",
        "\n",
        "  # Downsampling through the model\n",
        "  skips = []\n",
        "  for down in down_stack:\n",
        "    x = down(x)\n",
        "    skips.append(x)\n",
        "\n",
        "  skips = reversed(skips[:-1])\n",
        "\n",
        "  # Upsampling and establishing the skip connections\n",
        "  for up, skip in zip(up_stack, skips):\n",
        "    x = up(x)\n",
        "    x = concat([x, skip])\n",
        "\n",
        "  x = last(x)\n",
        "\n",
        "  return tf.keras.Model(inputs=inputs, outputs=x)\n"
      ],
      "execution_count": null,
      "outputs": []
    },
    {
      "cell_type": "code",
      "metadata": {
        "id": "jyWj5Qm1NQN1"
      },
      "source": [
        "def discriminator(norm_type='batchnorm'):\n",
        "  down_stack = [\n",
        "      downsample(64, 4, norm_type, apply_norm=False),  # (bs, 128, 128, 64)\n",
        "      tf.keras.layers.MaxPooling2D(), #(bs, 64, 64)\n",
        "      downsample(128, 4, norm_type),  # (bs, 64, 64, 128)\n",
        "      tf.keras.layers.MaxPooling2D(), #(bs, 16, 16, 128) \n",
        "      downsample(128, 4, norm_type),  # (bs, 8, 8, 128)\n",
        "      #tf.keras.layers.MaxPooling2D(),\n",
        "      downsample(128, 4, norm_type),  # (bs, 4, 4, 128)\n",
        "      downsample(256, 4, norm_type),  # (bs, 2, 2, 128)\n",
        "      #tf.keras.layers.MaxPooling2D(),  # (bs, 1, 1, 128)\n",
        "      #downsample(256, 4, norm_type),  \n",
        "      downsample(512, 4, norm_type),  \n",
        "      tf.keras.layers.Reshape((512,)),\n",
        "      tf.keras.layers.Dense(128),\n",
        "      tf.keras.layers.Dense(64),\n",
        "      tf.keras.layers.Dense(1)\n",
        "\n",
        "  ]\n",
        "\n",
        "  initializer = tf.random_normal_initializer(0., 0.02)\n",
        "\n",
        "  inputs = tf.keras.layers.Input(shape=[IMG_HEIGHT,IMG_WIDTH, 3])\n",
        "  x = inputs\n",
        "\n",
        "  for down in down_stack:\n",
        "    x = down(x)\n",
        "\n",
        "  return tf.keras.Model(inputs=inputs, outputs=x)\n"
      ],
      "execution_count": null,
      "outputs": []
    },
    {
      "cell_type": "code",
      "metadata": {
        "id": "Hy9H3FIZXjpm"
      },
      "source": [
        "OUTPUT_CHANNELS = 3\n",
        "\n",
        "generator_detectable_FORGED_to_ORIGINAL = unet_generator(OUTPUT_CHANNELS, norm_type='batchnorm')\n",
        "generator_ORIGINAL_to_detectable_FORGED = unet_generator(OUTPUT_CHANNELS, norm_type='batchnorm')\n",
        "\n",
        "discriminator_is_forged = discriminator(norm_type='batchnorm')\n",
        "discriminator_is_original = discriminator(norm_type='batchnorm')"
      ],
      "execution_count": null,
      "outputs": []
    },
    {
      "cell_type": "markdown",
      "metadata": {
        "id": "5gGRUvG4gs-m"
      },
      "source": [
        "# **Train Only Discrimnator**"
      ]
    },
    {
      "cell_type": "code",
      "metadata": {
        "id": "OdyopisvhSQV"
      },
      "source": [
        "discriminator_is_forged = discriminator(norm_type='batchnorm')"
      ],
      "execution_count": null,
      "outputs": []
    },
    {
      "cell_type": "code",
      "metadata": {
        "id": "wiBLIKoEhVc9"
      },
      "source": [
        "discriminator_is_forged.save_weights(\"/content/gdrive/My Drive/DeepForge/discriminator_is_forged_checkpoint\" )\n"
      ],
      "execution_count": null,
      "outputs": []
    },
    {
      "cell_type": "code",
      "metadata": {
        "colab": {
          "base_uri": "https://localhost:8080/"
        },
        "id": "XkClCZl3haWx",
        "outputId": "4eded849-5128-4660-b6fc-b0dd12c3a5de"
      },
      "source": [
        "discriminator_is_forged.summary()"
      ],
      "execution_count": null,
      "outputs": [
        {
          "output_type": "stream",
          "text": [
            "Model: \"model_6\"\n",
            "_________________________________________________________________\n",
            "Layer (type)                 Output Shape              Param #   \n",
            "=================================================================\n",
            "input_7 (InputLayer)         [(None, 256, 256, 3)]     0         \n",
            "_________________________________________________________________\n",
            "sequential_72 (Sequential)   (None, 128, 128, 64)      3072      \n",
            "_________________________________________________________________\n",
            "max_pooling2d_4 (MaxPooling2 (None, 64, 64, 64)        0         \n",
            "_________________________________________________________________\n",
            "sequential_73 (Sequential)   (None, 32, 32, 128)       131584    \n",
            "_________________________________________________________________\n",
            "max_pooling2d_5 (MaxPooling2 (None, 16, 16, 128)       0         \n",
            "_________________________________________________________________\n",
            "sequential_74 (Sequential)   (None, 8, 8, 128)         262656    \n",
            "_________________________________________________________________\n",
            "sequential_75 (Sequential)   (None, 4, 4, 128)         262656    \n",
            "_________________________________________________________________\n",
            "sequential_76 (Sequential)   (None, 2, 2, 256)         525312    \n",
            "_________________________________________________________________\n",
            "sequential_77 (Sequential)   (None, 1, 1, 512)         2099200   \n",
            "_________________________________________________________________\n",
            "reshape_2 (Reshape)          (None, 512)               0         \n",
            "_________________________________________________________________\n",
            "dense_6 (Dense)              (None, 128)               65664     \n",
            "_________________________________________________________________\n",
            "dense_7 (Dense)              (None, 64)                8256      \n",
            "_________________________________________________________________\n",
            "dense_8 (Dense)              (None, 1)                 65        \n",
            "=================================================================\n",
            "Total params: 3,358,465\n",
            "Trainable params: 3,356,161\n",
            "Non-trainable params: 2,304\n",
            "_________________________________________________________________\n"
          ],
          "name": "stdout"
        }
      ]
    },
    {
      "cell_type": "code",
      "metadata": {
        "id": "3sSGS65GiFXL"
      },
      "source": [
        "#loss_obj = tf.keras.losses.BinaryCrossentropy(from_logits=True)\n",
        "\n",
        "loss_obj = tf.keras.losses.MeanAbsoluteError()"
      ],
      "execution_count": null,
      "outputs": []
    },
    {
      "cell_type": "code",
      "metadata": {
        "id": "_dh7JKXfjyA-"
      },
      "source": [
        "def discriminator_loss_single(predict, actual):\n",
        "\n",
        "  if(actual == 1):\n",
        "    return loss_obj(tf.ones_like(predict), predict)\n",
        "  elif(actual == 0):\n",
        "    return loss_obj(tf.zeros_like(predict), predict)"
      ],
      "execution_count": null,
      "outputs": []
    },
    {
      "cell_type": "code",
      "metadata": {
        "id": "7QE3gWBcj0PC"
      },
      "source": [
        "discriminator_is_forged_optimizer = tf.keras.optimizers.Adam(2e-4, beta_1=0.5)"
      ],
      "execution_count": null,
      "outputs": []
    },
    {
      "cell_type": "code",
      "metadata": {
        "id": "sxgNyomRj2X6"
      },
      "source": [
        "def dis_onlyTrain_step(original, forged):\n",
        "  with tf.GradientTape(persistent=True) as tape:\n",
        "    predict_0 = discriminator_is_forged(original)\n",
        "    predict_1 = discriminator_is_forged(forged)\n",
        "\n",
        "\n",
        "    disc_is_forged_loss = discriminator_loss_single(predict_1, 1 ) + discriminator_loss_single(predict_0, 0 ) \n",
        "\n",
        "\n",
        "  discriminator_is_forged_gradients = tape.gradient( disc_is_forged_loss , discriminator_is_forged.trainable_variables)\n",
        "\n",
        "  discriminator_is_forged_optimizer.apply_gradients(zip(discriminator_is_forged_gradients,\n",
        "                                                discriminator_is_forged.trainable_variables))\n",
        "  \n",
        "  \n",
        "  return (disc_is_forged_loss)"
      ],
      "execution_count": null,
      "outputs": []
    },
    {
      "cell_type": "code",
      "metadata": {
        "id": "XT21Xn-bj471"
      },
      "source": [
        "EPOCHS_d = 1"
      ],
      "execution_count": null,
      "outputs": []
    },
    {
      "cell_type": "code",
      "metadata": {
        "colab": {
          "base_uri": "https://localhost:8080/"
        },
        "id": "XhIyq7Eyj8eG",
        "outputId": "2e29b153-0944-4d9b-b607-044427c20f95"
      },
      "source": [
        "for epoch in range(EPOCHS_d):\n",
        "  start = time.time()\n",
        "  print(\"Batch : \")\n",
        "\n",
        "  n = 0\n",
        "  ep_loss = 0\n",
        "  for image_x, image_y in tf.data.Dataset.zip((original, Forged_detectable)).take(5001):\n",
        "    ep_loss = ep_loss + dis_onlyTrain_step(image_x, image_y)\n",
        "    if n % 500 == 0:\n",
        "      print ( str(n)+ \" \", end='')\n",
        "    n+=1\n",
        "  \n",
        "\n",
        "  # Using a consistent image (sample_horse) so that the progress of the model\n",
        "  # is clearly visible.\n",
        "  #name = \"Epoch : \" + str(epoch) + \"Image\"\n",
        "\n",
        "  if (True):\n",
        "    ep_loss = ep_loss/n\n",
        "    discriminator_is_forged.save_weights(\"/content/gdrive/My Drive/DeepForge/discriminator_is_forged_checkpoint\" )\n",
        "    print ('\\nTime taken for epoch {} is {} sec. Loss : {} \\n'.format(epoch + 1,\n",
        "                                                      time.time()-start, ep_loss))"
      ],
      "execution_count": null,
      "outputs": [
        {
          "output_type": "stream",
          "text": [
            "Batch : \n",
            "0 500 1000 1500 2000 2500 3000 3500 4000 4500 5000 \n",
            "Time taken for epoch 1 is 966.7258026599884 sec. Loss : 0.07410646229982376 \n",
            "\n"
          ],
          "name": "stdout"
        }
      ]
    },
    {
      "cell_type": "code",
      "metadata": {
        "id": "P_eLDp8Hj_vQ"
      },
      "source": [
        "discriminator_is_forged.save_weights(\"/content/gdrive/My Drive/DeepForge/discriminator_is_forged_checkpoint\" )\n"
      ],
      "execution_count": null,
      "outputs": []
    },
    {
      "cell_type": "code",
      "metadata": {
        "id": "9csHA-xOkBqK"
      },
      "source": [
        "def discriminator_accuracy(model,image_set, result):\n",
        "  \n",
        "  correct = 1 \n",
        "  total = 1\n",
        "  for image in image_set.take(100):\n",
        "    predict = model(image)\n",
        "    if(result == 0):\n",
        "      if(predict.numpy() < 0.5):\n",
        "        correct += 1\n",
        "    if(result == 1):\n",
        "      if(predict.numpy() > 0.5):\n",
        "        correct += 1\n",
        "    total = total +1\n",
        "    #print(predict.numpy())\n",
        "\n",
        "  return (correct/total*100)"
      ],
      "execution_count": null,
      "outputs": []
    },
    {
      "cell_type": "code",
      "metadata": {
        "colab": {
          "base_uri": "https://localhost:8080/"
        },
        "id": "dmAwFQxNkH6K",
        "outputId": "159f7065-da20-4cc1-f41a-b18cedbe1a92"
      },
      "source": [
        "acc = discriminator_accuracy(discriminator_is_forged,test_Forged_detectable ,0)#+ discriminator_accuracy(discriminator_is_forged,test_Forged_detectable ,1)\n",
        "print(str(acc)+\" %\")"
      ],
      "execution_count": null,
      "outputs": [
        {
          "output_type": "stream",
          "text": [
            "98.01980198019803 %\n"
          ],
          "name": "stdout"
        }
      ]
    },
    {
      "cell_type": "code",
      "metadata": {
        "colab": {
          "base_uri": "https://localhost:8080/"
        },
        "id": "9_T64YgykIj8",
        "outputId": "eb28e701-df20-4900-a527-0418bcfe64de"
      },
      "source": [
        "acc = ( discriminator_accuracy(discriminator_is_forged,test_original ,0)+ discriminator_accuracy(discriminator_is_forged,test_Forged_detectable ,1) )/2\n",
        "print(str(acc)+\" %\")"
      ],
      "execution_count": null,
      "outputs": [
        {
          "output_type": "stream",
          "text": [
            "51.98019801980198 %\n"
          ],
          "name": "stdout"
        }
      ]
    },
    {
      "cell_type": "markdown",
      "metadata": {
        "id": "z4hjoFYskMxW"
      },
      "source": [
        "# **Whole Network Train**"
      ]
    },
    {
      "cell_type": "code",
      "metadata": {
        "id": "2UQB7UadcEsA"
      },
      "source": [
        "LAMBDA = 10"
      ],
      "execution_count": null,
      "outputs": []
    },
    {
      "cell_type": "code",
      "metadata": {
        "id": "fWFnomclcNSj"
      },
      "source": [
        "loss_obj = tf.keras.losses.BinaryCrossentropy(from_logits=True)"
      ],
      "execution_count": null,
      "outputs": []
    },
    {
      "cell_type": "code",
      "metadata": {
        "id": "FHdZ1hupkkg5"
      },
      "source": [
        "loss_obj_disc = tf.keras.losses.MeanAbsoluteError()"
      ],
      "execution_count": null,
      "outputs": []
    },
    {
      "cell_type": "code",
      "metadata": {
        "id": "YepC24FmcPCU"
      },
      "source": [
        "def discriminator_loss(real, generated):\n",
        "  real_loss = loss_obj_disc(tf.ones_like(real), real)\n",
        "\n",
        "  generated_loss = loss_obj_disc(tf.zeros_like(generated), generated)\n",
        "\n",
        "  total_disc_loss = real_loss + generated_loss\n",
        "\n",
        "  return total_disc_loss * 0.5"
      ],
      "execution_count": null,
      "outputs": []
    },
    {
      "cell_type": "code",
      "metadata": {
        "id": "iprqRKSZcRXE"
      },
      "source": [
        "def generator_loss(generated):\n",
        "  return loss_obj(tf.ones_like(generated), generated)"
      ],
      "execution_count": null,
      "outputs": []
    },
    {
      "cell_type": "code",
      "metadata": {
        "id": "uKVgRvVVcT00"
      },
      "source": [
        "def calc_cycle_loss(real_image, cycled_image):\n",
        "  loss1 = tf.reduce_mean(tf.abs(real_image - cycled_image))\n",
        "  \n",
        "  return LAMBDA * loss1"
      ],
      "execution_count": null,
      "outputs": []
    },
    {
      "cell_type": "code",
      "metadata": {
        "id": "ZXSUMFT-cXMo"
      },
      "source": [
        "def identity_loss(real_image, same_image):\n",
        "  loss = tf.reduce_mean(tf.abs(real_image - same_image))\n",
        "  return LAMBDA * 0.5 * loss"
      ],
      "execution_count": null,
      "outputs": []
    },
    {
      "cell_type": "code",
      "metadata": {
        "id": "CXYDqBLrcX2_"
      },
      "source": [
        "generator_detectable_FORGED_to_ORIGINAL_optimizer = tf.keras.optimizers.Adam(2e-4, beta_1=0.5)\n",
        "generator_ORIGINAL_to_detectable_FORGED_optimizer = tf.keras.optimizers.Adam(2e-4, beta_1=0.5)\n",
        "\n",
        "discriminator_is_forged_optimizer = tf.keras.optimizers.Adam(2e-4, beta_1=0.5)\n",
        "discriminator_is_original_optimizer = tf.keras.optimizers.Adam(2e-4, beta_1=0.5)"
      ],
      "execution_count": null,
      "outputs": []
    },
    {
      "cell_type": "code",
      "metadata": {
        "id": "30idyTUhcZxe"
      },
      "source": [
        "checkpoint_path = \"./checkpoints/train\"\n",
        "\n",
        "ckpt = tf.train.Checkpoint(generator_detectable_FORGED_to_ORIGINAL = generator_detectable_FORGED_to_ORIGINAL,\n",
        "                           generator_ORIGINAL_to_detectable_FORGED = generator_ORIGINAL_to_detectable_FORGED,\n",
        "                           discriminator_is_forged = discriminator_is_forged,\n",
        "                           discriminator_is_original = discriminator_is_original,\n",
        "                           generator_detectable_FORGED_to_ORIGINAL_optimizer = generator_detectable_FORGED_to_ORIGINAL_optimizer,\n",
        "                           generator_ORIGINAL_to_detectable_FORGED_optimizer = generator_ORIGINAL_to_detectable_FORGED_optimizer,\n",
        "                           discriminator_is_forged_optimizer = discriminator_is_forged_optimizer,\n",
        "                           discriminator_is_original_optimizer = discriminator_is_original_optimizer\n",
        "                           )\n",
        "\n",
        "ckpt_manager = tf.train.CheckpointManager(ckpt, checkpoint_path, max_to_keep=5)\n",
        "\n",
        "# if a checkpoint exists, restore the latest checkpoint.\n",
        "if ckpt_manager.latest_checkpoint:\n",
        "  ckpt.restore(ckpt_manager.latest_checkpoint)\n",
        "  print ('Latest checkpoint restored!!')"
      ],
      "execution_count": null,
      "outputs": []
    },
    {
      "cell_type": "code",
      "metadata": {
        "id": "1iRQYfi4ccZG"
      },
      "source": [
        "EPOCHS = 10"
      ],
      "execution_count": null,
      "outputs": []
    },
    {
      "cell_type": "code",
      "metadata": {
        "id": "Jv9d7eN8ceKs"
      },
      "source": [
        "def generate_images(model, test_input,epoch):\n",
        "  prediction = model(test_input)\n",
        "  f = plt.figure()  \n",
        "  plt.figure(figsize=(12, 12))\n",
        "\n",
        "  display_list = [test_input[0], prediction[0]]\n",
        "  title = ['Input Image', 'Predicted Image']\n",
        "\n",
        "  for i in range(2):\n",
        "    plt.subplot(1, 2, i+1)\n",
        "    plt.title(title[i])\n",
        "    # getting the pixel values between [0, 1] to plot it.\n",
        "    plt.imshow(display_list[i] * 0.5 + 0.5)\n",
        "    plt.axis('off')\n",
        "  plt.savefig('image_at_epoch_{:04d}.png'.format(epoch))\n",
        "  plt.show()\n"
      ],
      "execution_count": null,
      "outputs": []
    },
    {
      "cell_type": "markdown",
      "metadata": {
        "id": "RIJZA5UTUgp-"
      },
      "source": [
        "#**Only Disciminator Train**"
      ]
    },
    {
      "cell_type": "code",
      "metadata": {
        "id": "siTEG-cxWJOL"
      },
      "source": [
        "def discriminator_loss_single(predict, actual):\n",
        "\n",
        "  if(actual == 1):\n",
        "    return loss_obj(tf.ones_like(predict), predict)\n",
        "  elif(actual == 0):\n",
        "    return loss_obj(tf.zeros_like(predict), predict)\n"
      ],
      "execution_count": null,
      "outputs": []
    },
    {
      "cell_type": "code",
      "metadata": {
        "id": "n1C8jlS0TOgD"
      },
      "source": [
        "def dis_onlyTrain_step(real_x, real_y):\n",
        "  with tf.GradientTape(persistent=True) as tape:\n",
        "    predict_if_x_given_y = discriminator_x(real_y)\n",
        "    predict_if_x_given_x = discriminator_x(real_x)\n",
        "    predict_if_y_given_y = discriminator_y(real_y)\n",
        "    predict_if_y_given_x = discriminator_y(real_x)\n",
        "\n",
        "    disc_x_loss = discriminator_loss_single(predict_if_x_given_x, 1 ) + discriminator_loss_single(predict_if_x_given_y, 0 ) \n",
        "    disc_y_loss = discriminator_loss_single(predict_if_y_given_x, 0 ) + discriminator_loss_single(predict_if_y_given_y, 1 )\n",
        "\n",
        "  discriminator_x_gradients = tape.gradient(disc_x_loss,discriminator_x.trainable_variables)\n",
        "  discriminator_y_gradients = tape.gradient(disc_y_loss,discriminator_y.trainable_variables)\n",
        "  discriminator_x_optimizer.apply_gradients(zip(discriminator_x_gradients,\n",
        "                                                discriminator_x.trainable_variables))\n",
        "  \n",
        "  discriminator_y_optimizer.apply_gradients(zip(discriminator_y_gradients,\n",
        "                                                discriminator_y.trainable_variables))\n",
        "  \n",
        "  return (disc_x_loss + disc_y_loss)\n"
      ],
      "execution_count": null,
      "outputs": []
    },
    {
      "cell_type": "code",
      "metadata": {
        "id": "EPeEj3yiU_M0"
      },
      "source": [
        "EPOCHS_d = 5"
      ],
      "execution_count": null,
      "outputs": []
    },
    {
      "cell_type": "code",
      "metadata": {
        "id": "MaspGSx2Uz_4",
        "colab": {
          "base_uri": "https://localhost:8080/"
        },
        "outputId": "85491f85-9ca1-4601-f2a1-1db733549b61"
      },
      "source": [
        "for epoch in range(EPOCHS_d):\n",
        "  start = time.time()\n",
        "  print(\"Batch : \")\n",
        "\n",
        "  n = 0\n",
        "  ep_loss = 0\n",
        "  for image_x, image_y in tf.data.Dataset.zip((original_horses, mean_filter2d_horses)):\n",
        "    ep_loss = ep_loss + dis_onlyTrain_step(image_x, image_y)\n",
        "    if n % 50 == 0:\n",
        "      print ( str(n)+ \" \", end='')\n",
        "    n+=1\n",
        "  \n",
        "\n",
        "  # Using a consistent image (sample_horse) so that the progress of the model\n",
        "  # is clearly visible.\n",
        "  #name = \"Epoch : \" + str(epoch) + \"Image\"\n",
        "\n",
        "  if (True):\n",
        "    ckpt_save_path = ckpt_manager.save()\n",
        "    print ('\\nSaving checkpoint for epoch {} at {}'.format(epoch+1,\n",
        "                                                         ckpt_save_path))\n",
        "    ep_loss = ep_loss/n\n",
        "  print ('Time taken for epoch {} is {} sec. Loss : {} \\n'.format(epoch + 1,\n",
        "                                                      time.time()-start, ep_loss))"
      ],
      "execution_count": null,
      "outputs": [
        {
          "output_type": "stream",
          "text": [
            "Batch : \n",
            "0 50 100 150 200 250 300 350 400 450 500 550 600 650 700 750 800 850 900 950 1000 1050 \n",
            "Saving checkpoint for epoch 1 at ./checkpoints/train/ckpt-1\n",
            "Time taken for epoch 1 is 271.23685812950134 sec. Loss : 2.4514870643615723 \n",
            "\n",
            "Batch : \n",
            "0 50 100 150 200 250 300 350 400 450 500 550 600 650 700 750 800 850 900 950 1000 1050 \n",
            "Saving checkpoint for epoch 2 at ./checkpoints/train/ckpt-2\n",
            "Time taken for epoch 2 is 69.23819279670715 sec. Loss : 3.294288396835327 \n",
            "\n",
            "Batch : \n",
            "0 50 100 150 200 250 300 350 400 450 500 550 600 650 700 750 800 850 900 950 1000 1050 \n",
            "Saving checkpoint for epoch 3 at ./checkpoints/train/ckpt-3\n",
            "Time taken for epoch 3 is 69.46725106239319 sec. Loss : 2.772620916366577 \n",
            "\n",
            "Batch : \n",
            "0 50 100 150 200 250 300 350 400 450 500 550 600 650 700 750 800 850 900 950 1000 1050 \n",
            "Saving checkpoint for epoch 4 at ./checkpoints/train/ckpt-4\n",
            "Time taken for epoch 4 is 69.33519983291626 sec. Loss : 2.772620916366577 \n",
            "\n",
            "Batch : \n",
            "0 50 100 150 200 250 300 350 400 450 500 550 600 650 700 750 800 850 900 950 1000 1050 \n",
            "Saving checkpoint for epoch 5 at ./checkpoints/train/ckpt-5\n",
            "Time taken for epoch 5 is 68.57148122787476 sec. Loss : 2.772620916366577 \n",
            "\n"
          ],
          "name": "stdout"
        }
      ]
    },
    {
      "cell_type": "markdown",
      "metadata": {
        "id": "-lfR6bOQUt7J"
      },
      "source": [
        "# **Whole Network Train**"
      ]
    },
    {
      "cell_type": "code",
      "metadata": {
        "id": "ECzaAaFHeqYK"
      },
      "source": [
        "@tf.function\n",
        "def train_step(Orignial_img, Forged_img):\n",
        "  # persistent is set to True because the tape is used more than\n",
        "  # once to calculate the gradients.\n",
        "  with tf.GradientTape(persistent=True) as tape:\n",
        "    # Generator G translates X -> Y\n",
        "    # Generator F translates Y -> X\n",
        "    \n",
        "    # Goal : Make X like Y.\n",
        "    \n",
        "    Undectable_forged = generator_detectable_FORGED_to_ORIGINAL(Forged_img, training=True)\n",
        "    cycled_forged = generator_ORIGINAL_to_detectable_FORGED(Undectable_forged, training=True)\n",
        "\n",
        "    Made_forged = generator_ORIGINAL_to_detectable_FORGED(Orignial_img, training=True)\n",
        "    cycled_original = generator_detectable_FORGED_to_ORIGINAL(Made_forged, training=True)\n",
        "\n",
        "    # same_x and same_y are used for identity loss.\n",
        "    same_forged = generator_ORIGINAL_to_detectable_FORGED(Forged_img, training=True)\n",
        "    same_original = generator_detectable_FORGED_to_ORIGINAL(Orignial_img, training=True)\n",
        "\n",
        "    disc_real_forged = discriminator_is_forged(Forged_img, training=True)\n",
        "    disc_real_original = discriminator_is_original(Orignial_img, training=True)\n",
        "\n",
        "    disc_fake_forged = discriminator_is_forged(Made_forged, training=True)\n",
        "    disc_fake_original = discriminator_is_original(Undectable_forged , training=True)\n",
        "\n",
        "\n",
        "    # calculate the loss\n",
        "    gen_detectable_FORGED_to_ORIGINAL_loss = generator_loss(disc_fake_original)\n",
        "    gen_ORIGINAL_to_detectable_FORGED_loss = generator_loss(disc_fake_forged)\n",
        "    \n",
        "    total_cycle_loss = calc_cycle_loss(Forged_img, cycled_forged) + calc_cycle_loss(Orignial_img, cycled_original)\n",
        "    \n",
        "    # Total generator loss = adversarial loss + cycle loss\n",
        "    total_gen_detectable_FORGED_to_ORIGINAL_ORIGINAL_loss = gen_detectable_FORGED_to_ORIGINAL_loss + total_cycle_loss + identity_loss(Orignial_img, same_original)\n",
        "    total_gen_ORIGINAL_to_detectable_FORGED_loss = gen_ORIGINAL_to_detectable_FORGED_loss + total_cycle_loss + identity_loss(Forged_img, same_forged)\n",
        "\n",
        "    disc_is_forged_loss = discriminator_loss(disc_real_forged, disc_fake_forged)\n",
        "    disc_is_original_loss = discriminator_loss(disc_real_original, disc_fake_original)\n",
        "  \n",
        "  # Calculate the gradients for generator and discriminator\n",
        "  gen_detectable_FORGED_to_ORIGINAL_gradients = tape.gradient(total_gen_detectable_FORGED_to_ORIGINAL_ORIGINAL_loss, \n",
        "                                        generator_detectable_FORGED_to_ORIGINAL.trainable_variables)\n",
        "  gen_ORIGINAL_to_detectable_FORGED_gradients = tape.gradient(total_gen_ORIGINAL_to_detectable_FORGED_loss, \n",
        "                                        generator_ORIGINAL_to_detectable_FORGED.trainable_variables)\n",
        "  \n",
        "  disc_is_forged_gradients = tape.gradient(disc_is_forged_loss, \n",
        "                                            discriminator_is_forged.trainable_variables)\n",
        "  disc_is_original_gradients = tape.gradient(disc_is_original_loss, \n",
        "                                            discriminator_is_original.trainable_variables)\n",
        "  print(\"Gen G Loss : \"+str(total_gen_detectable_FORGED_to_ORIGINAL_ORIGINAL_loss)+\" Gen F Loss : \"+str(total_gen_ORIGINAL_to_detectable_FORGED_loss)+ \" Disc_x Loss : \"+ str(disc_is_forged_loss)+\" Disc_y Loss : \"+ str(disc_is_original_loss) )\n",
        "  \n",
        "  # Apply the gradients to the optimizer\n",
        "  generator_detectable_FORGED_to_ORIGINAL_optimizer.apply_gradients(zip(gen_detectable_FORGED_to_ORIGINAL_gradients, \n",
        "                                            generator_detectable_FORGED_to_ORIGINAL.trainable_variables))\n",
        "\n",
        "  generator_ORIGINAL_to_detectable_FORGED_optimizer.apply_gradients(zip(gen_ORIGINAL_to_detectable_FORGED_gradients, \n",
        "                                            generator_ORIGINAL_to_detectable_FORGED.trainable_variables))\n",
        "  \n",
        "  discriminator_is_forged_optimizer.apply_gradients(zip(disc_is_forged_gradients,\n",
        "                                                discriminator_is_forged.trainable_variables))\n",
        "  \n",
        "  discriminator_is_original_optimizer.apply_gradients(zip(disc_is_original_gradients,\n",
        "                                                discriminator_is_original.trainable_variables))"
      ],
      "execution_count": null,
      "outputs": []
    },
    {
      "cell_type": "code",
      "metadata": {
        "id": "rjpDLQUCm414"
      },
      "source": [
        "sample_Forged_detectable = next(iter(Forged_detectable))"
      ],
      "execution_count": null,
      "outputs": []
    },
    {
      "cell_type": "code",
      "metadata": {
        "id": "qHvIjQL_yL6c"
      },
      "source": [
        "EPOCHS = 1"
      ],
      "execution_count": null,
      "outputs": []
    },
    {
      "cell_type": "code",
      "metadata": {
        "id": "CW38Tbc-cgpi",
        "colab": {
          "base_uri": "https://localhost:8080/"
        },
        "outputId": "2efec390-155a-43eb-8ba5-e76d40349583"
      },
      "source": [
        "for epoch in range(EPOCHS):\n",
        "  start = time.time()\n",
        "  print(\"Batch : \")\n",
        "\n",
        "  n = 0\n",
        "  for image_x, image_y in tf.data.Dataset.zip((original, Forged_detectable)).take(5001):\n",
        "    train_step(image_x, image_y)\n",
        "    if n % 10 == 0:\n",
        "      print ( str(n)+ \" \", end='')\n",
        "    n+=1\n",
        "\n",
        "  clear_output(wait=True)\n",
        "  # Using a consistent image (sample_horse) so that the progress of the model\n",
        "  # is clearly visible.\n",
        "  #name = \"Epoch : \" + str(epoch) + \"Image\"\n",
        "  generate_images(generator_detectable_FORGED_to_ORIGINAL, sample_Forged_detectable,epoch)\n",
        "\n",
        "  if (True):\n",
        "    ckpt_save_path = ckpt_manager.save()\n",
        "    print ('Saving checkpoint for epoch {} at {}'.format(epoch+1,\n",
        "                                                         ckpt_save_path))\n",
        "\n",
        "  print ('Time taken for epoch {} is {} sec\\n'.format(epoch + 1,\n",
        "                                                      time.time()-start))"
      ],
      "execution_count": null,
      "outputs": [
        {
          "output_type": "stream",
          "text": [
            "Batch : \n",
            "Gen G Loss : Tensor(\"add_2:0\", shape=(), dtype=float32) Gen F Loss : Tensor(\"add_4:0\", shape=(), dtype=float32) Disc_x Loss : Tensor(\"mul_4:0\", shape=(), dtype=float32) Disc_y Loss : Tensor(\"mul_5:0\", shape=(), dtype=float32)\n",
            "Gen G Loss : Tensor(\"add_2:0\", shape=(), dtype=float32) Gen F Loss : Tensor(\"add_4:0\", shape=(), dtype=float32) Disc_x Loss : Tensor(\"mul_4:0\", shape=(), dtype=float32) Disc_y Loss : Tensor(\"mul_5:0\", shape=(), dtype=float32)\n",
            "0 10 20 30 40 50 60 70 80 90 100 110 120 130 140 150 160 170 180 190 200 "
          ],
          "name": "stdout"
        }
      ]
    },
    {
      "cell_type": "code",
      "metadata": {
        "id": "GkNB69We0iTb"
      },
      "source": [
        "#############"
      ],
      "execution_count": null,
      "outputs": []
    },
    {
      "cell_type": "code",
      "metadata": {
        "id": "BorqETxpd6g5"
      },
      "source": [
        "f = plt.figure()\n",
        "plt.subplot(121)\n",
        "plt.title('original_horses')\n",
        "plt.imshow(sample_original_horses[0] * 0.5 + 0.5)\n",
        "\n",
        "plt.subplot(122)\n",
        "plt.title('mean_filter2d_horses')\n",
        "plt.imshow(generator_f(sample_mean_filter2d_horses)[0] * 0.5 + 0.5)\n",
        "plt.show()\n",
        "f.savefig(\"a.pdf\")\n"
      ],
      "execution_count": null,
      "outputs": []
    },
    {
      "cell_type": "code",
      "metadata": {
        "id": "TLLPhrqdKWfk"
      },
      "source": [
        "discriminator_x(sample_mean_filter2d_horses).shape"
      ],
      "execution_count": null,
      "outputs": []
    },
    {
      "cell_type": "code",
      "metadata": {
        "id": "ieMOhgnHmwh6"
      },
      "source": [
        "name = \"Epoch : \" + str(1) + \"Image\"\n",
        "generate_images(generator_f, sample_mean_filter2d_horses,470)"
      ],
      "execution_count": null,
      "outputs": []
    },
    {
      "cell_type": "markdown",
      "metadata": {
        "id": "oxu9Vl35-cD-"
      },
      "source": [
        "# GIF"
      ]
    },
    {
      "cell_type": "code",
      "metadata": {
        "id": "1j43883xlufd"
      },
      "source": [
        "plt.figure(figsize=(12, 12))\n",
        "plt.savefig('image_at_epoch')"
      ],
      "execution_count": null,
      "outputs": []
    },
    {
      "cell_type": "code",
      "metadata": {
        "id": "mRVmIl8kBDWz"
      },
      "source": [
        "import glob\n",
        "from PIL import Image\n",
        "\n",
        "# filepaths\n",
        "fp_in = \"image_*.png\"\n",
        "fp_out = \"image.gif\"\n",
        "\n",
        "# https://pillow.readthedocs.io/en/stable/handbook/image-file-formats.html#gif\n",
        "img, *imgs = [Image.open(f) for f in sorted(glob.glob(fp_in))]\n",
        "img.save(fp=fp_out, format='GIF', append_images=imgs,\n",
        "         save_all=True, duration=200, loop=0)"
      ],
      "execution_count": null,
      "outputs": []
    },
    {
      "cell_type": "markdown",
      "metadata": {
        "id": "naBPHvwlc76i"
      },
      "source": [
        "# **Test**"
      ]
    },
    {
      "cell_type": "code",
      "metadata": {
        "id": "h35mBoabapmf"
      },
      "source": [
        "def discriminator_accuracy(model,image_set, result):\n",
        "  \n",
        "  corrrect = 0 \n",
        "  total = 0\n",
        "  for image in image_set:\n",
        "\n"
      ],
      "execution_count": null,
      "outputs": []
    },
    {
      "cell_type": "code",
      "metadata": {
        "id": "cAGWKpn5c4HH"
      },
      "source": [
        "for image_x, image_y in tf.data.Dataset.zip((original_horses, mean_filter2d_horses)):\n",
        "\n",
        "  #print(discriminator_x(image_y).numpy().round())\n",
        "  print(discriminator_x(image_y).numpy())\n",
        "  \n"
      ],
      "execution_count": null,
      "outputs": []
    },
    {
      "cell_type": "code",
      "metadata": {
        "id": "Ifx3KPbVMbhC"
      },
      "source": [
        ""
      ],
      "execution_count": null,
      "outputs": []
    }
  ]
}